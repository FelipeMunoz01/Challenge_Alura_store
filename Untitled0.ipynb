{
  "nbformat": 4,
  "nbformat_minor": 0,
  "metadata": {
    "colab": {
      "provenance": [],
      "authorship_tag": "ABX9TyNwDfgfx8kqip3jBm01GmXh",
      "include_colab_link": true
    },
    "kernelspec": {
      "name": "python3",
      "display_name": "Python 3"
    },
    "language_info": {
      "name": "python"
    }
  },
  "cells": [
    {
      "cell_type": "markdown",
      "metadata": {
        "id": "view-in-github",
        "colab_type": "text"
      },
      "source": [
        "<a href=\"https://colab.research.google.com/github/FelipeMunoz01/Challenge_Alura_store/blob/main/Untitled0.ipynb\" target=\"_parent\"><img src=\"https://colab.research.google.com/assets/colab-badge.svg\" alt=\"Open In Colab\"/></a>"
      ]
    },
    {
      "cell_type": "code",
      "execution_count": null,
      "metadata": {
        "id": "top_M83H9foT",
        "colab": {
          "base_uri": "https://localhost:8080/"
        },
        "outputId": "8fdc6e91-365c-4c91-dd74-eab44ce01f6b"
      },
      "outputs": [
        {
          "output_type": "execute_result",
          "data": {
            "text/plain": [
              "137178693358880"
            ]
          },
          "metadata": {},
          "execution_count": 3
        }
      ],
      "source": [
        "t = 'Alura'\n",
        "type(t)\n",
        "\n",
        "texto = ' Micaela de los Sanyos '\n",
        "id(texto)"
      ]
    },
    {
      "cell_type": "markdown",
      "source": [
        "el objetivo finales que aparezca de la siguiente forma\n",
        "\"MICAELA DE LOS SANTOS\""
      ],
      "metadata": {
        "id": "GFFvqTToGYtL"
      }
    },
    {
      "cell_type": "markdown",
      "source": [
        "str.upper\n",
        "convierta un string a mayúsculas ."
      ],
      "metadata": {
        "id": "xjPHM788Gnt3"
      }
    },
    {
      "cell_type": "code",
      "source": [
        "texto.lower()"
      ],
      "metadata": {
        "colab": {
          "base_uri": "https://localhost:8080/",
          "height": 35
        },
        "id": "2BLFQ9V7G3Pq",
        "outputId": "782bd264-b994-4766-956d-490389ed8c2e"
      },
      "execution_count": null,
      "outputs": [
        {
          "output_type": "execute_result",
          "data": {
            "text/plain": [
              "' micaela de los sanyos '"
            ],
            "application/vnd.google.colaboratory.intrinsic+json": {
              "type": "string"
            }
          },
          "metadata": {},
          "execution_count": 4
        }
      ]
    },
    {
      "cell_type": "code",
      "source": [
        "texto.strip()"
      ],
      "metadata": {
        "colab": {
          "base_uri": "https://localhost:8080/",
          "height": 35
        },
        "id": "2twwvbjlHcIl",
        "outputId": "c1ef7eaa-376e-47eb-9eb7-c73b43ab7a04"
      },
      "execution_count": null,
      "outputs": [
        {
          "output_type": "execute_result",
          "data": {
            "text/plain": [
              "'Micaela de los Sanyos'"
            ],
            "application/vnd.google.colaboratory.intrinsic+json": {
              "type": "string"
            }
          },
          "metadata": {},
          "execution_count": 5
        }
      ]
    },
    {
      "cell_type": "code",
      "source": [
        "texto.replace('y','t')"
      ],
      "metadata": {
        "colab": {
          "base_uri": "https://localhost:8080/",
          "height": 35
        },
        "id": "8kn-hr7VHopS",
        "outputId": "cd6266de-d913-4130-df4d-4383a1b09b82"
      },
      "execution_count": null,
      "outputs": [
        {
          "output_type": "execute_result",
          "data": {
            "text/plain": [
              "' Micaela de los Santos '"
            ],
            "application/vnd.google.colaboratory.intrinsic+json": {
              "type": "string"
            }
          },
          "metadata": {},
          "execution_count": 15
        }
      ]
    },
    {
      "cell_type": "code",
      "source": [],
      "metadata": {
        "id": "wBy6fG3ZdF3M"
      },
      "execution_count": null,
      "outputs": []
    },
    {
      "cell_type": "code",
      "source": [],
      "metadata": {
        "id": "dL-IzvM6wGvL"
      },
      "execution_count": null,
      "outputs": []
    },
    {
      "cell_type": "code",
      "source": [
        "texto"
      ],
      "metadata": {
        "colab": {
          "base_uri": "https://localhost:8080/",
          "height": 35
        },
        "id": "73rifWErJ4RL",
        "outputId": "dccf4237-c2c9-47cc-a6bc-c5481c4734a0"
      },
      "execution_count": null,
      "outputs": [
        {
          "output_type": "execute_result",
          "data": {
            "text/plain": [
              "' Micaela de los Sanyos '"
            ],
            "application/vnd.google.colaboratory.intrinsic+json": {
              "type": "string"
            }
          },
          "metadata": {},
          "execution_count": 10
        }
      ]
    },
    {
      "cell_type": "code",
      "source": [
        "id(texto)"
      ],
      "metadata": {
        "colab": {
          "base_uri": "https://localhost:8080/"
        },
        "id": "5ioSQWCfIssu",
        "outputId": "4a192dbf-054a-458e-b9bf-6308bd22ad8d"
      },
      "execution_count": null,
      "outputs": [
        {
          "output_type": "execute_result",
          "data": {
            "text/plain": [
              "137178693358880"
            ]
          },
          "metadata": {},
          "execution_count": 11
        }
      ]
    },
    {
      "cell_type": "code",
      "source": [
        "nuevo_texto = texto.strip().replace(\"y\", \"t\").upper()\n",
        "print(nuevo_texto)\n",
        "print(id(texto), id(nuevo_texto))"
      ],
      "metadata": {
        "colab": {
          "base_uri": "https://localhost:8080/"
        },
        "id": "fygFrPNZOK_A",
        "outputId": "2e62fc77-45c2-42a1-cdc0-40ab159c2d22"
      },
      "execution_count": null,
      "outputs": [
        {
          "output_type": "stream",
          "name": "stdout",
          "text": [
            "MICAELA DE LOS SANTOS\n",
            "137178693358880 137178692352912\n"
          ]
        }
      ]
    },
    {
      "cell_type": "code",
      "source": [
        "nombre = input(\"escribe tu nombre: \")"
      ],
      "metadata": {
        "colab": {
          "base_uri": "https://localhost:8080/"
        },
        "id": "XCKvVWMWPrYb",
        "outputId": "0662e660-de3c-4c93-9128-efb9794608ea"
      },
      "execution_count": null,
      "outputs": [
        {
          "name": "stdout",
          "output_type": "stream",
          "text": [
            "escribe tu nombre: Felipe\n"
          ]
        }
      ]
    },
    {
      "cell_type": "code",
      "source": [
        "type(nombre)"
      ],
      "metadata": {
        "colab": {
          "base_uri": "https://localhost:8080/"
        },
        "id": "TfM_FhbZP_Ky",
        "outputId": "3a209728-c43b-4902-f730-c3464e7274fc"
      },
      "execution_count": null,
      "outputs": [
        {
          "output_type": "execute_result",
          "data": {
            "text/plain": [
              "str"
            ]
          },
          "metadata": {},
          "execution_count": 23
        }
      ]
    },
    {
      "cell_type": "code",
      "source": [
        "ano_admision = int(input(\"Digita el año de admision: \"))"
      ],
      "metadata": {
        "colab": {
          "base_uri": "https://localhost:8080/"
        },
        "id": "Fwbh2T5uRJS2",
        "outputId": "83d8905a-fd2b-4284-e42c-37d7c2020c3a"
      },
      "execution_count": null,
      "outputs": [
        {
          "name": "stdout",
          "output_type": "stream",
          "text": [
            "Digita el año de admision: 2023\n"
          ]
        }
      ]
    },
    {
      "cell_type": "code",
      "source": [
        "type(ano_admision)"
      ],
      "metadata": {
        "colab": {
          "base_uri": "https://localhost:8080/"
        },
        "id": "__edzsVORo8n",
        "outputId": "4b55c628-f825-4371-cbe2-e31ce4d3dd94"
      },
      "execution_count": null,
      "outputs": [
        {
          "output_type": "execute_result",
          "data": {
            "text/plain": [
              "int"
            ]
          },
          "metadata": {},
          "execution_count": 34
        }
      ]
    },
    {
      "cell_type": "code",
      "source": [
        "ano_salida = int(input(\"Digita el año de salida: \"))"
      ],
      "metadata": {
        "colab": {
          "base_uri": "https://localhost:8080/"
        },
        "id": "GGH-p6guRsgF",
        "outputId": "54521443-f332-46f6-f9a5-5edfa4df6103"
      },
      "execution_count": null,
      "outputs": [
        {
          "name": "stdout",
          "output_type": "stream",
          "text": [
            "Digita el año de salida: 2024\n"
          ]
        }
      ]
    },
    {
      "cell_type": "code",
      "source": [
        "type(ano_salida)"
      ],
      "metadata": {
        "colab": {
          "base_uri": "https://localhost:8080/"
        },
        "id": "WzPMZ_iiSV1R",
        "outputId": "cb381796-436d-4188-93dc-c7c570da2657"
      },
      "execution_count": null,
      "outputs": [
        {
          "output_type": "execute_result",
          "data": {
            "text/plain": [
              "int"
            ]
          },
          "metadata": {},
          "execution_count": 36
        }
      ]
    },
    {
      "cell_type": "code",
      "source": [
        "ano_admision + ano_salida"
      ],
      "metadata": {
        "colab": {
          "base_uri": "https://localhost:8080/"
        },
        "id": "82dhDiPVStuO",
        "outputId": "4e17ee48-93bc-40a5-bf31-3b5fb0f21b7c"
      },
      "execution_count": null,
      "outputs": [
        {
          "output_type": "execute_result",
          "data": {
            "text/plain": [
              "4047"
            ]
          },
          "metadata": {},
          "execution_count": 37
        }
      ]
    },
    {
      "cell_type": "code",
      "source": [
        "nota_de_admision = float(input('Digita la nota de admision: '))"
      ],
      "metadata": {
        "colab": {
          "base_uri": "https://localhost:8080/"
        },
        "id": "vSXEqeKETUcR",
        "outputId": "9c91f6f0-96fd-42cf-a5d2-c2d8f9345320"
      },
      "execution_count": null,
      "outputs": [
        {
          "name": "stdout",
          "output_type": "stream",
          "text": [
            "Digita la nota de admision: 9.5\n"
          ]
        }
      ]
    },
    {
      "cell_type": "code",
      "source": [
        "type(nota_de_admision)"
      ],
      "metadata": {
        "colab": {
          "base_uri": "https://localhost:8080/"
        },
        "id": "lS-zRkjeTn2F",
        "outputId": "05890820-4194-414f-cf28-3c6f664e391b"
      },
      "execution_count": null,
      "outputs": [
        {
          "output_type": "execute_result",
          "data": {
            "text/plain": [
              "float"
            ]
          },
          "metadata": {},
          "execution_count": 39
        }
      ]
    },
    {
      "cell_type": "code",
      "source": [
        "print(f'\\tEl año de admisión fue: {ano_admision} \\n\\tla nota de admisión fue {nota_de_admision}')"
      ],
      "metadata": {
        "colab": {
          "base_uri": "https://localhost:8080/"
        },
        "id": "YxCmfgizT2N8",
        "outputId": "7757b3f9-e062-458f-ce03-dc6a5fdb4685"
      },
      "execution_count": null,
      "outputs": [
        {
          "output_type": "stream",
          "name": "stdout",
          "text": [
            "\tEl año de admisión fue: 2023 \n",
            "\tla nota de admisión fue 9.5\n"
          ]
        }
      ]
    },
    {
      "cell_type": "code",
      "source": [
        "nombre_alumno = 'Penélope Camacho'\n",
        "print('Nombre del alumno: %s' %(nombre_alumno))"
      ],
      "metadata": {
        "colab": {
          "base_uri": "https://localhost:8080/"
        },
        "id": "xD-93VijniQu",
        "outputId": "7b4a813e-5a9d-4707-9197-20f4e5c725f5"
      },
      "execution_count": null,
      "outputs": [
        {
          "output_type": "stream",
          "name": "stdout",
          "text": [
            "Nombre del alumno: Penélope Camacho\n"
          ]
        }
      ]
    },
    {
      "cell_type": "code",
      "source": [
        "nombre_alumno = 'Penélope Camacho'\n",
        "edad_alumno = 11\n",
        "media_alumno = 9.95\n",
        "print('Nombre del alumno es %s, tiene %d años y su media es %f.' %(nombre_alumno, edad_alumno, media_alumno))"
      ],
      "metadata": {
        "colab": {
          "base_uri": "https://localhost:8080/"
        },
        "id": "Nj3M3ZlcoCBr",
        "outputId": "32d1662b-9483-4cd6-eb4a-4b60005f5908"
      },
      "execution_count": null,
      "outputs": [
        {
          "output_type": "stream",
          "name": "stdout",
          "text": [
            "Nombre del alumno es Penélope Camacho, tiene 11 años y su media es 9.950000.\n"
          ]
        }
      ]
    },
    {
      "cell_type": "code",
      "source": [
        "print('Nombre del alumno es %s, tiene %d años y su media es %.2f.' %(nombre_alumno, edad_alumno, media_alumno))"
      ],
      "metadata": {
        "colab": {
          "base_uri": "https://localhost:8080/"
        },
        "id": "rrTH0nuyoLlg",
        "outputId": "63703288-7153-45c2-d50d-2362bb96232f"
      },
      "execution_count": null,
      "outputs": [
        {
          "output_type": "stream",
          "name": "stdout",
          "text": [
            "Nombre del alumno es Penélope Camacho, tiene 11 años y su media es 9.95.\n"
          ]
        }
      ]
    },
    {
      "cell_type": "code",
      "source": [
        "x = True\n",
        "print(\"Valor de x: %s\" % str(x))"
      ],
      "metadata": {
        "colab": {
          "base_uri": "https://localhost:8080/"
        },
        "id": "sMulvmb-oOLA",
        "outputId": "dd270ef0-8a1e-4a49-e2a1-423635889c8a"
      },
      "execution_count": null,
      "outputs": [
        {
          "output_type": "stream",
          "name": "stdout",
          "text": [
            "Valor de x: True\n"
          ]
        }
      ]
    },
    {
      "cell_type": "code",
      "source": [
        "nombre_alumno = 'Penélope Camacho'\n",
        "print('Nombre del alumno: {}'.format(nombre_alumno))"
      ],
      "metadata": {
        "colab": {
          "base_uri": "https://localhost:8080/"
        },
        "id": "WOtOJkX2oYV4",
        "outputId": "a9e0850f-34fc-479e-c473-3eb91410daa1"
      },
      "execution_count": null,
      "outputs": [
        {
          "output_type": "stream",
          "name": "stdout",
          "text": [
            "Nombre del alumno: Penélope Camacho\n"
          ]
        }
      ]
    },
    {
      "cell_type": "code",
      "source": [
        "nombre_alumno = 'Fabricio Daniel'\n",
        "edad_alumno = 15\n",
        "media_alumno = 9.95\n",
        "print('Nombre del alumno es {}, tiene {} años y su media es {}.' .format(nombre_alumno, edad_alumno, media_alumno))"
      ],
      "metadata": {
        "colab": {
          "base_uri": "https://localhost:8080/"
        },
        "id": "0Nabr2HxohCV",
        "outputId": "9e348c9c-6240-4336-8f72-e12f7349952f"
      },
      "execution_count": null,
      "outputs": [
        {
          "output_type": "stream",
          "name": "stdout",
          "text": [
            "Nombre del alumno es Fabricio Daniel, tiene 15 años y su media es 9.95.\n"
          ]
        }
      ]
    },
    {
      "cell_type": "code",
      "source": [
        "print(\"Estudiar es un esfuerzo constante,\\nEs como cultivar una planta,\\nNecesitamos dedicación y paciencia,\\nPara ver madurar el fruto.\")"
      ],
      "metadata": {
        "colab": {
          "base_uri": "https://localhost:8080/"
        },
        "id": "nw1NV5-UorJF",
        "outputId": "e9617283-9137-4e22-8b09-44a8ff2c6571"
      },
      "execution_count": null,
      "outputs": [
        {
          "output_type": "stream",
          "name": "stdout",
          "text": [
            "Estudiar es un esfuerzo constante,\n",
            "Es como cultivar una planta,\n",
            "Necesitamos dedicación y paciencia,\n",
            "Para ver madurar el fruto.\n"
          ]
        }
      ]
    },
    {
      "cell_type": "code",
      "source": [
        "print('Cantidad\\tCalidad\\n5 muestras\\tAlta\\n3 muestras\\tBaja')"
      ],
      "metadata": {
        "colab": {
          "base_uri": "https://localhost:8080/"
        },
        "id": "qo-L_Iw0ozyW",
        "outputId": "3155bead-58dc-4c23-95ab-9e5d673254bf"
      },
      "execution_count": null,
      "outputs": [
        {
          "output_type": "stream",
          "name": "stdout",
          "text": [
            "Cantidad\tCalidad\n",
            "5 muestras\tAlta\n",
            "3 muestras\tBaja\n"
          ]
        }
      ]
    },
    {
      "cell_type": "code",
      "source": [
        "print(\"Ruta del archivo: C:\\\\archivos\\\\documento.csv\")"
      ],
      "metadata": {
        "colab": {
          "base_uri": "https://localhost:8080/"
        },
        "id": "hjlmQRXBo9pK",
        "outputId": "891c829d-18f7-4a4f-8c68-981b6dd74f89"
      },
      "execution_count": null,
      "outputs": [
        {
          "output_type": "stream",
          "name": "stdout",
          "text": [
            "Ruta del archivo: C:\\archivos\\documento.csv\n"
          ]
        }
      ]
    },
    {
      "cell_type": "code",
      "source": [
        "print(\"Una vez oí: \\\"Los frutos del conocimiento son los más dulces y duraderos de todos.\\\"\")"
      ],
      "metadata": {
        "colab": {
          "base_uri": "https://localhost:8080/"
        },
        "id": "js_e4bbnpHSu",
        "outputId": "75969b6b-5244-44b5-bf5a-cc8f91bcdd73"
      },
      "execution_count": null,
      "outputs": [
        {
          "output_type": "stream",
          "name": "stdout",
          "text": [
            "Una vez oí: \"Los frutos del conocimiento son los más dulces y duraderos de todos.\"\n"
          ]
        }
      ]
    },
    {
      "cell_type": "code",
      "source": [
        "print('Mi profesora una vez dijo: \\'Estudiar es la clave del éxito.\\'')"
      ],
      "metadata": {
        "colab": {
          "base_uri": "https://localhost:8080/"
        },
        "id": "WszGk0w5pa9H",
        "outputId": "08f5236a-167a-4dd3-b07b-822399ad1a58"
      },
      "execution_count": null,
      "outputs": [
        {
          "output_type": "stream",
          "name": "stdout",
          "text": [
            "Mi profesora una vez dijo: 'Estudiar es la clave del éxito.'\n"
          ]
        }
      ]
    },
    {
      "cell_type": "markdown",
      "source": [],
      "metadata": {
        "id": "E7HpMs7AVpnu"
      }
    },
    {
      "cell_type": "code",
      "source": [
        "nombre = input('Escribe tu nombre: ')\n",
        "print(f'Hola {nombre}')"
      ],
      "metadata": {
        "colab": {
          "base_uri": "https://localhost:8080/"
        },
        "id": "zyuP12sjqf2q",
        "outputId": "ba0ba443-ab08-422b-e8d3-d64cce3d75f5"
      },
      "execution_count": null,
      "outputs": [
        {
          "output_type": "stream",
          "name": "stdout",
          "text": [
            "Escribe tu nombre: Felipe\n",
            "Hola Felipe\n"
          ]
        }
      ]
    },
    {
      "cell_type": "code",
      "source": [
        "nombre = input('Escribe tu nombre: ')\n",
        "edad = int(input('Escribe tu edad:'))\n",
        "print(f'Hola {nombre},tienes {edad} años.')"
      ],
      "metadata": {
        "colab": {
          "base_uri": "https://localhost:8080/"
        },
        "id": "qxdxmtPQqrXx",
        "outputId": "a8d789db-6884-45a2-a66d-0b0e4034fa4e"
      },
      "execution_count": null,
      "outputs": [
        {
          "output_type": "stream",
          "name": "stdout",
          "text": [
            "Escribe tu nombre: Felipe\n",
            "Escribe tu edad:35\n",
            "Hola Felipe,tienes 35 años.\n"
          ]
        }
      ]
    },
    {
      "cell_type": "code",
      "source": [
        "nombre = input('Escribe tu nombre: ')\n",
        "edad = int(input('Escribe tu edad:'))\n",
        "altura = float(input('Escribe tu altura:'))\n",
        "print(f'Hola {nombre},tienes {edad} años y {altura} de altura.')"
      ],
      "metadata": {
        "colab": {
          "base_uri": "https://localhost:8080/"
        },
        "id": "8aRuTdc1r3mi",
        "outputId": "d38671ae-c789-43f3-c11a-6ce3f69174a3"
      },
      "execution_count": null,
      "outputs": [
        {
          "output_type": "stream",
          "name": "stdout",
          "text": [
            "Escribe tu nombre: Felipe\n",
            "Escribe tu edad:35\n",
            "Escribe tu altura:1.68\n",
            "Hola Felipe,tienes 35 años y 1.68 de altura.\n"
          ]
        }
      ]
    },
    {
      "cell_type": "code",
      "source": [
        "# Solicitar el primer valor al usuario\n",
        "valor1 = float(input(\"Ingrese el primer valor: \"))\n",
        "\n",
        "# Solicitar el segundo valor al usuario\n",
        "valor2 = float(input(\"Ingrese el segundo valor: \"))\n",
        "\n",
        "# Calcular la suma\n",
        "suma = valor1 + valor2\n",
        "\n",
        "# Imprimir la suma\n",
        "print(f\"La suma de {valor1} y {valor2} es: {suma}\")"
      ],
      "metadata": {
        "colab": {
          "base_uri": "https://localhost:8080/"
        },
        "id": "yi71d347q8Wo",
        "outputId": "d3be3421-37cb-4145-da40-a515be007fa6"
      },
      "execution_count": null,
      "outputs": [
        {
          "output_type": "stream",
          "name": "stdout",
          "text": [
            "Ingrese el primer valor: 34\n",
            "Ingrese el segundo valor: 21\n",
            "La suma de 34.0 y 21.0 es: 55.0\n"
          ]
        }
      ]
    },
    {
      "cell_type": "code",
      "source": [
        "# Solicitar el primer valor al usuario\n",
        "valor1 = float(input(\"Ingrese el primer valor: \"))\n",
        "\n",
        "# Solicitar el segundo valor al usuario\n",
        "valor2 = float(input(\"Ingrese el segundo valor: \"))\n",
        "\n",
        "# Solicitar el tercer valor al usuario\n",
        "valor3 = float(input(\"Ingrese el tercer valor: \"))\n",
        "\n",
        "# Calcular la suma\n",
        "suma = valor1 + valor2 + valor3\n",
        "\n",
        "# Imprimir la suma\n",
        "print(f\"La suma de {valor1}, {valor2} y {valor3} es: {suma}\")"
      ],
      "metadata": {
        "colab": {
          "base_uri": "https://localhost:8080/"
        },
        "id": "ekmE3-u0s9dT",
        "outputId": "a67a4b4a-e9ba-4632-a657-f33345e388d6"
      },
      "execution_count": null,
      "outputs": [
        {
          "output_type": "stream",
          "name": "stdout",
          "text": [
            "Ingrese el primer valor: 1\n",
            "Ingrese el segundo valor: 2\n",
            "Ingrese el tercer valor: 3\n",
            "La suma de 1.0, 2.0 y 3.0 es: 6.0\n"
          ]
        }
      ]
    },
    {
      "cell_type": "code",
      "source": [
        "# Solicitar el primer valor al usuario\n",
        "valor1 = float(input(\"Ingrese el primer valor: \"))\n",
        "\n",
        "# Solicitar el segundo valor al usuario\n",
        "valor2 = float(input(\"Ingrese el segundo valor: \"))\n",
        "\n",
        "# Calcular la resta la resta del primero menos el segundo valor.\n",
        "resta = valor1 - valor2\n",
        "\n",
        "# Imprimir la resta del primero menos el segundo valor.\n",
        "print(f\"La resta de {valor1} y {valor2} es: {resta}\")\n"
      ],
      "metadata": {
        "colab": {
          "base_uri": "https://localhost:8080/"
        },
        "id": "RynzjpxutXx2",
        "outputId": "2aec4db1-b655-4b63-fce9-34d69c0084de"
      },
      "execution_count": null,
      "outputs": [
        {
          "output_type": "stream",
          "name": "stdout",
          "text": [
            "Ingrese el primer valor: 3\n",
            "Ingrese el segundo valor: 2\n",
            "La resta de 3.0 y 2.0 es: 1.0\n"
          ]
        }
      ]
    },
    {
      "cell_type": "code",
      "source": [
        "# Solicitar el primer valor al usuario\n",
        "valor1 = float(input(\"Ingrese el primer valor: \"))\n",
        "\n",
        "# Solicitar el segundo valor al usuario\n",
        "valor2 = float(input(\"Ingrese el segundo valor: \"))\n",
        "\n",
        "# Calcular la multiplicación multiplicación de los dos valores.\n",
        "multiplicación = valor1 * valor2\n",
        "\n",
        "# imprimir la multiplicación multiplicación de los dos valores.\n",
        "print(f\"La multiplicación de {valor1} y {valor2} es: {multiplicación}\")"
      ],
      "metadata": {
        "colab": {
          "base_uri": "https://localhost:8080/"
        },
        "id": "-7UVbTayt5j0",
        "outputId": "98a99668-c00e-44b9-c948-225c2dc31649"
      },
      "execution_count": null,
      "outputs": [
        {
          "output_type": "stream",
          "name": "stdout",
          "text": [
            "Ingrese el primer valor: 2\n",
            "Ingrese el segundo valor: 4\n",
            "La multiplicación de 2.0 y 4.0 es: 8.0\n"
          ]
        }
      ]
    },
    {
      "cell_type": "code",
      "source": [
        "# Solicitar los valores numéricos al usuario\n",
        "valor1 = float(input(\"Ingrese el primer valor: \"))\n",
        "valor2 = float(input(\"Ingrese el segundo valor: \"))\n",
        "\n",
        "# Solicitar el operador al usuario\n",
        "operador = input(\"Ingrese el operador (+, -, *, /, **): \")\n",
        "\n",
        "# Solicitar la potencia al usuario (solo se usa si el operador es **)\n",
        "potencia = float(input(\"Ingrese la potencia (solo si el operador es **): \"))\n",
        "\n",
        "# Realizar la operación\n",
        "if operador == \"+\":\n",
        "  resultado = valor1 + valor2\n",
        "elif operador == \"-\":\n",
        "  resultado = valor1 - valor2\n",
        "elif operador == \"*\":\n",
        "  resultado = valor1 * valor2\n",
        "elif operador == \"/\":\n",
        "  if valor2 != 0:  # Evitar división por cero\n",
        "    resultado = valor1 / valor2\n",
        "  else:\n",
        "    resultado = \"Error: División por cero\"\n",
        "elif operador == \"**\":\n",
        "  resultado = valor1 ** potencia  # Usar la potencia ingresada\n",
        "else:\n",
        "  resultado = \"Operador inválido\"\n",
        "\n",
        "# Imprimir el resultado\n",
        "print(f\"El resultado es: {resultado}\")"
      ],
      "metadata": {
        "colab": {
          "base_uri": "https://localhost:8080/"
        },
        "id": "QQcxVskMuXIH",
        "outputId": "4d08f666-067d-4bde-a306-777b8a44a563"
      },
      "execution_count": null,
      "outputs": [
        {
          "output_type": "stream",
          "name": "stdout",
          "text": [
            "Ingrese el primer valor: 2\n",
            "Ingrese el segundo valor: 2\n",
            "Ingrese el operador (+, -, *, /, **): **\n",
            "Ingrese la potencia (solo si el operador es **): 2\n",
            "El resultado es: 4.0\n"
          ]
        }
      ]
    },
    {
      "cell_type": "code",
      "source": [
        "# Solicitar el numerador al usuario\n",
        "numerador = int(input(\"Ingrese el numerador: \"))\n",
        "\n",
        "# Solicitar el denominador al usuario y validar que no sea cero\n",
        "while True:\n",
        "    denominador = int(input(\"Ingrese el denominador (diferente de 0): \"))\n",
        "    if denominador != 0:\n",
        "        break\n",
        "    else:\n",
        "        print(\"Error: El denominador no puede ser 0. Intente de nuevo.\")\n",
        "\n",
        "# Realizar la división entera\n",
        "division_entera = numerador // denominador\n",
        "\n",
        "# Imprimir el resultado\n",
        "print(f\"La división entera de {numerador} entre {denominador} es: {division_entera}\")"
      ],
      "metadata": {
        "colab": {
          "base_uri": "https://localhost:8080/"
        },
        "id": "eOvNx_o2wGwz",
        "outputId": "ccacbda0-6c56-4f23-ded4-709dd6505c10"
      },
      "execution_count": null,
      "outputs": [
        {
          "output_type": "stream",
          "name": "stdout",
          "text": [
            "Ingrese el numerador: 1\n",
            "Ingrese el denominador (diferente de 0): 2\n",
            "La división entera de 1 entre 2 es: 0\n"
          ]
        }
      ]
    },
    {
      "source": [
        "# Solicitar el numerador al usuario\n",
        "numerador = int(input(\"Ingrese el numerador: \"))\n",
        "\n",
        "# Solicitar el denominador al usuario y validar que no sea cero\n",
        "while True:\n",
        "    denominador = int(input(\"Ingrese el denominador (diferente de 0): \"))\n",
        "    if denominador != 0:\n",
        "        break\n",
        "    else:\n",
        "        print(\"Error: El denominador no puede ser 0. Intente de nuevo.\")\n",
        "\n",
        "# Calcular el resto de la división\n",
        "resto = numerador % denominador\n",
        "\n",
        "# Imprimir el resultado\n",
        "print(f\"El resto de la división de {numerador} entre {denominador} es: {resto}\")"
      ],
      "cell_type": "code",
      "metadata": {
        "colab": {
          "base_uri": "https://localhost:8080/"
        },
        "id": "ONprZX5rwhJl",
        "outputId": "b75c7809-dfe2-433d-9e8b-5eaa71af3bc2"
      },
      "execution_count": null,
      "outputs": [
        {
          "output_type": "stream",
          "name": "stdout",
          "text": [
            "Ingrese el numerador: 1\n",
            "Ingrese el denominador (diferente de 0): 2\n",
            "El resto de la división de 1 entre 2 es: 1\n"
          ]
        }
      ]
    },
    {
      "source": [
        "# Solicitar las 3 notas al estudiante\n",
        "nota1 = float(input(\"Ingrese la primera nota: \"))\n",
        "nota2 = float(input(\"Ingrese la segunda nota: \"))\n",
        "nota3 = float(input(\"Ingrese la tercera nota: \"))\n",
        "\n",
        "# Calcular el promedio\n",
        "promedio = (nota1 + nota2 + nota3) / 3\n",
        "\n",
        "# Imprimir el promedio\n",
        "print(f\"El promedio de las notas es: {promedio}\")"
      ],
      "cell_type": "code",
      "metadata": {
        "colab": {
          "base_uri": "https://localhost:8080/"
        },
        "id": "EY23IBiSxEfo",
        "outputId": "5d075c3e-d141-4dd4-a522-28c061308d2a"
      },
      "execution_count": null,
      "outputs": [
        {
          "output_type": "stream",
          "name": "stdout",
          "text": [
            "Ingrese la primera nota: 5.5\n",
            "Ingrese la segunda nota: 3.4\n",
            "Ingrese la tercera nota: 7.0\n",
            "El promedio de las notas es: 5.3\n"
          ]
        }
      ]
    },
    {
      "cell_type": "code",
      "source": [
        "# Números y sus pesos correspondientes\n",
        "numeros = [5, 12, 20, 15]\n",
        "pesos = [1, 2, 3, 4]\n",
        "\n",
        "# Calcular el producto de cada número por su peso\n",
        "productos = [numero * peso for numero, peso in zip(numeros, pesos)]\n",
        "\n",
        "# Calcular la suma de los productos y la suma de los pesos\n",
        "suma_productos = sum(productos)\n",
        "suma_pesos = sum(pesos)\n",
        "\n",
        "# Calcular el promedio ponderado\n",
        "promedio_ponderado = suma_productos / suma_pesos\n",
        "\n",
        "# Imprimir el resultado\n",
        "print(f\"El promedio ponderado es: {promedio_ponderado}\")"
      ],
      "metadata": {
        "colab": {
          "base_uri": "https://localhost:8080/"
        },
        "id": "elSb5GksxRpe",
        "outputId": "291e6b8d-800b-4023-fbfb-dba748092b2f"
      },
      "execution_count": null,
      "outputs": [
        {
          "output_type": "stream",
          "name": "stdout",
          "text": [
            "El promedio ponderado es: 14.9\n"
          ]
        }
      ]
    },
    {
      "cell_type": "code",
      "source": [
        " frase = \"El conocimiento es poder\"\n",
        " print(frase)"
      ],
      "metadata": {
        "colab": {
          "base_uri": "https://localhost:8080/"
        },
        "id": "S8_MYfCsyOKx",
        "outputId": "f8017c67-29d0-455e-b90b-ea9143f39042"
      },
      "execution_count": null,
      "outputs": [
        {
          "output_type": "stream",
          "name": "stdout",
          "text": [
            "El conocimiento es poder\n"
          ]
        }
      ]
    },
    {
      "source": [
        "frase = \"El conocimiento es poder.\"  # Asignamos la cadena de texto a la variable \"frase\"\n",
        "print(frase)  # Imprimimos el valor de la variable \"frase\""
      ],
      "cell_type": "code",
      "metadata": {
        "id": "WfHLt5hqympI"
      },
      "execution_count": null,
      "outputs": []
    },
    {
      "cell_type": "code",
      "source": [
        "#Solicitar frase al usuario\n",
        "frase = input(\"Ingrese una frase: \")\n",
        "\n",
        "#imprimir frase\n",
        "print(frase)\n",
        "\n"
      ],
      "metadata": {
        "colab": {
          "base_uri": "https://localhost:8080/"
        },
        "id": "2X5neuUEy23D",
        "outputId": "b5a0e1d0-199f-42cc-f5fc-bf1c10fff939"
      },
      "execution_count": null,
      "outputs": [
        {
          "output_type": "stream",
          "name": "stdout",
          "text": [
            "Ingrese una frase: El conocimineto es poder\n",
            "El conocimineto es poder\n"
          ]
        }
      ]
    },
    {
      "cell_type": "code",
      "source": [
        "#Crea un código que solicite una frase al usuario y luego imprima la misma frase ingresada pero en mayúsculas.\n",
        "frase = input(\"Ingrese una frase: \")\n",
        "print(frase.upper())\n"
      ],
      "metadata": {
        "colab": {
          "base_uri": "https://localhost:8080/"
        },
        "id": "JK15US17zqBP",
        "outputId": "d1cd3d9b-5af4-4966-f870-59683310585d"
      },
      "execution_count": null,
      "outputs": [
        {
          "output_type": "stream",
          "name": "stdout",
          "text": [
            "Ingrese una frase: el conocimiento es poder\n",
            "EL CONOCIMIENTO ES PODER\n"
          ]
        }
      ]
    },
    {
      "cell_type": "code",
      "source": [
        "#Crea un código que solicite una frase al usuario y luego imprima la misma frase ingresada pero en minúsculas.\n",
        "frase = input(\"Ingrese una frase: \")\n",
        "print(frase.lower())"
      ],
      "metadata": {
        "colab": {
          "base_uri": "https://localhost:8080/"
        },
        "id": "InDBDuUvz5if",
        "outputId": "51c0a008-712e-40af-c37c-5b8b435a900d"
      },
      "execution_count": null,
      "outputs": [
        {
          "output_type": "stream",
          "name": "stdout",
          "text": [
            "Ingrese una frase: EL CONOCIMIENTO ES PODER\n",
            "el conocimiento es poder\n"
          ]
        }
      ]
    },
    {
      "source": [
        "#Crea una variable llamada \"frase\" y asígnale una cadena de texto de tu elección. Luego, imprime la frase sin espacios en blanco al principio y al final.\n",
        "frase = \"  Hola, mundo!   \"  # Frase con espacios al principio y al final\n",
        "print(frase.strip())       # Imprime la frase sin espacios extras"
      ],
      "cell_type": "code",
      "metadata": {
        "colab": {
          "base_uri": "https://localhost:8080/"
        },
        "id": "-8E3AWbt0uut",
        "outputId": "23e7d7d0-9202-4103-d302-13c7b9260b80"
      },
      "execution_count": null,
      "outputs": [
        {
          "output_type": "stream",
          "name": "stdout",
          "text": [
            "Hola, mundo!\n"
          ]
        }
      ]
    },
    {
      "cell_type": "code",
      "source": [],
      "metadata": {
        "id": "8E38t0bU2Jfz"
      },
      "execution_count": null,
      "outputs": []
    },
    {
      "source": [
        "#Crea una variable llamada \"frase\" y asígnale una cadena de texto de tu elección. Luego, imprime la frase sin espacios en blanco al principio y al final.\n",
        "frase = \"  Hola, mundo!   \"  # Frase con espacios al principio y al final\n",
        "print(frase.strip())       # Imprime la frase sin espacios extras"
      ],
      "cell_type": "code",
      "metadata": {
        "colab": {
          "base_uri": "https://localhost:8080/"
        },
        "id": "Y0UPvTAy1SYS",
        "outputId": "6eabdebf-78bf-4ba7-ea86-195e22c3eee7"
      },
      "execution_count": null,
      "outputs": [
        {
          "output_type": "stream",
          "name": "stdout",
          "text": [
            "Hola, mundo!\n"
          ]
        }
      ]
    },
    {
      "cell_type": "markdown",
      "source": [],
      "metadata": {
        "id": "BwsdhrjB2Oca"
      }
    },
    {
      "cell_type": "code",
      "source": [
        "#Crea un código que solicite una frase al usuario y luego imprima la misma frase sin espacios en blanco al principio y al final.\n",
        "frase = input(\"Ingrese una frase: \")\n",
        "print(frase.strip())"
      ],
      "metadata": {
        "colab": {
          "base_uri": "https://localhost:8080/"
        },
        "id": "YhVIySGu2Puz",
        "outputId": "3eb10c15-7ff5-40b0-e7a8-abbc8216b1ee"
      },
      "execution_count": null,
      "outputs": [
        {
          "output_type": "stream",
          "name": "stdout",
          "text": [
            "Ingrese una frase:    Hola compa  \n",
            "Hola compa\n"
          ]
        }
      ]
    },
    {
      "cell_type": "code",
      "source": [
        "#Crea un código que solicite una frase al usuario y luego imprima la misma frase sin espacios en blanco al principio y al final, además de convertirla a minúsculas.\n",
        "frase = input(\"Ingrese una frase: \")\n",
        "print(frase.strip().lower())"
      ],
      "metadata": {
        "colab": {
          "base_uri": "https://localhost:8080/"
        },
        "id": "QZVr_Xzg2fOB",
        "outputId": "99f5e3aa-190d-4812-d209-63aa13edf434"
      },
      "execution_count": null,
      "outputs": [
        {
          "output_type": "stream",
          "name": "stdout",
          "text": [
            "Ingrese una frase:   HOLA COMPA  \n",
            "hola compa\n"
          ]
        }
      ]
    },
    {
      "cell_type": "code",
      "source": [
        "#Crea un código que solicite una frase al usuario y luego imprima la misma frase con todas las vocales \"e\" reemplazadas por la letra \"f\".\n",
        "frase = input(\"Ingrese una frase: \")\n",
        "print(frase.replace(\"e\", \"f\"))"
      ],
      "metadata": {
        "colab": {
          "base_uri": "https://localhost:8080/"
        },
        "id": "bpzP4unK2-c9",
        "outputId": "2801512d-2cec-4657-fd6e-66efd540c75f"
      },
      "execution_count": null,
      "outputs": [
        {
          "output_type": "stream",
          "name": "stdout",
          "text": [
            "Ingrese una frase:  Felipe es Felipe\n",
            " Fflipf fs Fflipf\n"
          ]
        }
      ]
    },
    {
      "cell_type": "code",
      "source": [
        "#Crea un código que solicite una frase al usuario y luego imprima la misma frase con todas las vocales \"a\" reemplazadas por el carácter \"@\".\n",
        "frase = input(\"Ingrese una frase: \")\n",
        "print(frase.replace(\"a\", \"@\"))"
      ],
      "metadata": {
        "colab": {
          "base_uri": "https://localhost:8080/"
        },
        "id": "2VrDF4W43NRy",
        "outputId": "11f02873-ca64-45c7-cd5b-3af73ba0472d"
      },
      "execution_count": null,
      "outputs": [
        {
          "output_type": "stream",
          "name": "stdout",
          "text": [
            "Ingrese una frase: hola a todas\n",
            "hol@ @ tod@s\n"
          ]
        }
      ]
    },
    {
      "cell_type": "code",
      "source": [
        "#Crea un código que solicite una frase al usuario y luego imprima la misma frase con todas las consonantes \"s\" reemplazadas por el carácter \"$\".\n",
        "frase = input(\"Ingrese una frase: \")\n",
        "print(frase.replace(\"s\", \"$\"))\n",
        "#"
      ],
      "metadata": {
        "colab": {
          "base_uri": "https://localhost:8080/"
        },
        "id": "GIxoHESV31Tk",
        "outputId": "5f85b80e-5dd1-4e71-b708-652aa0bca291"
      },
      "execution_count": null,
      "outputs": [
        {
          "output_type": "stream",
          "name": "stdout",
          "text": [
            "Ingrese una frase: sapo y serpiente sienten sed\n",
            "$apo y $erpiente $ienten $ed\n"
          ]
        }
      ]
    },
    {
      "cell_type": "code",
      "source": [
        "edad_maria = int(input('Ingrese la edad de María: '))\n",
        "edad_beatriz = int(input('Ingrese la edad de Beatriz: '))\n",
        "\n",
        "if edad_maria > edad_beatriz:\n",
        "  print('María es mayor que Beatriz.')"
      ],
      "metadata": {
        "colab": {
          "base_uri": "https://localhost:8080/"
        },
        "id": "IFFrO93hN66a",
        "outputId": "5ad7f0db-b676-46c7-f509-5b918ca15a7f"
      },
      "execution_count": null,
      "outputs": [
        {
          "output_type": "stream",
          "name": "stdout",
          "text": [
            "Ingrese la edad de María: 35\n",
            "Ingrese la edad de Beatriz: 12\n",
            "María es mayor que Beatriz.\n"
          ]
        }
      ]
    },
    {
      "cell_type": "code",
      "source": [
        "edad_maria = int(input('Ingrese la edad de María: '))\n",
        "edad_beatriz = int(input('Ingrese la edad de Beatriz: '))\n",
        "\n",
        "if edad_maria < edad_beatriz:\n",
        "  print('María es menor que Beatriz.')"
      ],
      "metadata": {
        "colab": {
          "base_uri": "https://localhost:8080/"
        },
        "id": "fTYKRUhKOE5v",
        "outputId": "dc31457f-2fef-4099-f602-0872b9553e20"
      },
      "execution_count": null,
      "outputs": [
        {
          "output_type": "stream",
          "name": "stdout",
          "text": [
            "Ingrese la edad de María: 12\n",
            "Ingrese la edad de Beatriz: 23\n",
            "María es menor que Beatriz.\n"
          ]
        }
      ]
    },
    {
      "cell_type": "code",
      "source": [
        "#Escribe un programa que pida a la persona usuaria que proporcione dos números y muestre el número más grande.\n",
        "numero1 = int(input(\"Ingrese el primer número: \"))\n",
        "numero2 = int(input(\"Ingrese el segundo número: \"))\n",
        "\n",
        "if numero1 > numero2:\n",
        "  print(\"El número más grande es:\", numero1)\n",
        "else:  # Si numero1 no es mayor que numero2, entonces numero2 es mayor o igual\n",
        "  print(\"El número más grande es:\", numero2)"
      ],
      "metadata": {
        "colab": {
          "base_uri": "https://localhost:8080/"
        },
        "id": "veUac1Zc6vtk",
        "outputId": "c5983647-5bea-4562-c9c1-a4a473f7a35c"
      },
      "execution_count": null,
      "outputs": [
        {
          "output_type": "stream",
          "name": "stdout",
          "text": [
            "Ingrese el primer número: 8\n",
            "Ingrese el segundo número: 9\n",
            "El número más grande es: 9\n"
          ]
        }
      ]
    },
    {
      "cell_type": "code",
      "source": [
        "#Escribe un programa que solicite el porcentaje de crecimiento de producción de una empresa e informe si hubo un crecimiento (porcentaje positivo) o una disminución (porcentaje negativo).\n",
        "porcentaje_crecimiento = float(input(\"Ingrese el porcentaje de crecimiento de la producción: \"))\n",
        "\n",
        "if porcentaje_crecimiento > 0:\n",
        "  print(\"Hubo un crecimiento en la producción.\")\n",
        "else:\n",
        "  print(\"Hubo una disminución en la producción.\")\n"
      ],
      "metadata": {
        "colab": {
          "base_uri": "https://localhost:8080/"
        },
        "id": "w0X8tyxj77Dt",
        "outputId": "025d96c5-90d5-444e-e265-e268b8bbf06c"
      },
      "execution_count": null,
      "outputs": [
        {
          "output_type": "stream",
          "name": "stdout",
          "text": [
            "Ingrese el porcentaje de crecimiento de la producción: -3\n",
            "Hubo una disminución en la producción.\n"
          ]
        }
      ]
    },
    {
      "cell_type": "code",
      "source": [
        "#Escribe un programa que determine si una letra proporcionada por la persona usuaria es una vocal o una consonante.\n",
        "letra = input(\"Ingrese una letra: \")\n",
        "\n",
        "if letra.lower() in ['a', 'e', 'i', 'o', 'u']:\n",
        "  print(\"La letra es una vocal.\")\n",
        "else:\n",
        "  print(\"La letra es una consonante.\")"
      ],
      "metadata": {
        "colab": {
          "base_uri": "https://localhost:8080/"
        },
        "id": "BruR3pHJ8bNf",
        "outputId": "cd79a60f-93fc-47a4-e9a3-1f0a9258791e"
      },
      "execution_count": null,
      "outputs": [
        {
          "output_type": "stream",
          "name": "stdout",
          "text": [
            "Ingrese una letra: l\n",
            "La letra es una consonante.\n"
          ]
        }
      ]
    },
    {
      "source": [
        "#Escribe un programa que lea valores promedio de precios de un modelo de automóvil durante 3 años consecutivos y muestre el valor más alto y más bajo entre esos tres años.\n",
        "valor1 = float(input(\"Ingrese el primer valor: \"))\n",
        "valor2 = float(input(\"Ingrese el segundo valor: \"))\n",
        "valor3 = float(input(\"Ingrese el tercer valor: \"))\n",
        "\n",
        "# Encontrar el valor más alto\n",
        "valor_mas_alto = valor1\n",
        "if valor2 > valor_mas_alto:\n",
        "    valor_mas_alto = valor2\n",
        "if valor3 > valor_mas_alto:\n",
        "    valor_mas_alto = valor3\n",
        "\n",
        "# Encontrar el valor más bajo\n",
        "valor_mas_bajo = valor1\n",
        "if valor2 < valor_mas_bajo:\n",
        "    valor_mas_bajo = valor2\n",
        "if valor3 < valor_mas_bajo:\n",
        "    valor_mas_bajo = valor3\n",
        "\n",
        "print(\"El valor más alto es:\", valor_mas_alto)\n",
        "print(\"El valor más bajo es:\", valor_mas_bajo)"
      ],
      "cell_type": "code",
      "metadata": {
        "colab": {
          "base_uri": "https://localhost:8080/"
        },
        "id": "Xoo-gAyVCjjh",
        "outputId": "fd6161b6-8cc0-4f78-cdc4-545f5610ae2d"
      },
      "execution_count": null,
      "outputs": [
        {
          "output_type": "stream",
          "name": "stdout",
          "text": [
            "Ingrese el primer valor: 5000000\n",
            "Ingrese el segundo valor: 6000000\n",
            "Ingrese el tercer valor: 8000000\n",
            "El valor más alto es: 8000000.0\n",
            "El valor más bajo es: 5000000.0\n"
          ]
        }
      ]
    },
    {
      "source": [
        "#Escribe un programa que pregunte sobre el precio de tres productos e indique cuál es el producto más barato para comprar.\n",
        "precio1 = float(input(\"Ingrese el precio del primer producto: \"))\n",
        "precio2 = float(input(\"Ingrese el precio del segundo producto: \"))\n",
        "precio3 = float(input(\"Ingrese el precio del tercer producto: \"))\n",
        "\n",
        "if precio1 < precio2 and precio1 < precio3:\n",
        "  print(\"El producto más barato es el primero.\")\n",
        "elif precio2 < precio1 and precio2 < precio3:\n",
        "  print(\"El producto más barato es el segundo.\")\n",
        "else:\n",
        "  print(\"El producto más barato es el tercero.\")"
      ],
      "cell_type": "code",
      "metadata": {
        "colab": {
          "base_uri": "https://localhost:8080/"
        },
        "id": "X_P0--haBn63",
        "outputId": "496d0449-895c-4fef-eeca-277065870a47"
      },
      "execution_count": null,
      "outputs": [
        {
          "output_type": "stream",
          "name": "stdout",
          "text": [
            "Ingrese el precio del primer producto: 5000\n",
            "Ingrese el precio del segundo producto: 1000\n",
            "Ingrese el precio del tercer producto: 300\n",
            "El producto más barato es el tercero.\n"
          ]
        }
      ]
    },
    {
      "cell_type": "code",
      "source": [
        "# vamos a colectar las notas y promedios de cada alumno  dentro de un laso while\n",
        "# haremos un ejemplo con tres promedios\n",
        "contador = 1\n",
        "while contador <= 3:\n",
        "  nombre = input(\"Ingrese el nombre del alumno: \")\n",
        "  nota1 = float(input(\"Ingrese la primera nota: \"))\n",
        "  nota2 = float(input(\"Ingrese la segunda nota: \"))\n",
        "  nota3 = float(input(\"Ingrese la tercera nota: \"))\n",
        "  print(f\"El promedio de {nombre} es: {(nota1 + nota2 + nota3) / 3}\")\n",
        "  contador += 1"
      ],
      "metadata": {
        "colab": {
          "base_uri": "https://localhost:8080/"
        },
        "id": "WY1qdRwmwIWx",
        "outputId": "e53d2843-3460-4562-ddab-8fa84a3f1312"
      },
      "execution_count": null,
      "outputs": [
        {
          "output_type": "stream",
          "name": "stdout",
          "text": [
            "Ingrese el nombre del alumno: pepito\n",
            "Ingrese la primera nota: 7.0\n",
            "Ingrese la segunda nota: 6.5\n",
            "Ingrese la tercera nota: 3.0\n",
            "El promedio de pepito es: 5.5\n",
            "Ingrese el nombre del alumno: Juanito\n",
            "Ingrese la primera nota: 5.0\n",
            "Ingrese la segunda nota: 4.0\n",
            "Ingrese la tercera nota: 6.8\n",
            "El promedio de Juanito es: 5.266666666666667\n",
            "Ingrese el nombre del alumno: Fabito\n",
            "Ingrese la primera nota: 3.4\n",
            "Ingrese la segunda nota: 7.0\n",
            "Ingrese la tercera nota: 7.0\n",
            "El promedio de Fabito es: 5.8\n"
          ]
        }
      ]
    },
    {
      "cell_type": "code",
      "source": [
        "for e in range(1,4):\n",
        "nota1 = float(input(\"Ingrese la primera nota: \"))\n",
        "nota2 = float(input(\"Ingrese la segunda nota: \"))\n",
        "print(f\"El promedio del estudiante 1 es: {(nota1 + nota2) / 2}\")\n"
      ],
      "metadata": {
        "colab": {
          "base_uri": "https://localhost:8080/",
          "height": 108
        },
        "id": "aQQlxuqC0gtu",
        "outputId": "49d1c740-e58e-46ae-f127-6420d9d42192"
      },
      "execution_count": null,
      "outputs": [
        {
          "output_type": "error",
          "ename": "IndentationError",
          "evalue": "expected an indented block after 'for' statement on line 1 (<ipython-input-7-d83c367305f0>, line 2)",
          "traceback": [
            "\u001b[0;36m  File \u001b[0;32m\"<ipython-input-7-d83c367305f0>\"\u001b[0;36m, line \u001b[0;32m2\u001b[0m\n\u001b[0;31m    nota1 = float(input(\"Ingrese la primera nota: \"))\u001b[0m\n\u001b[0m    ^\u001b[0m\n\u001b[0;31mIndentationError\u001b[0m\u001b[0;31m:\u001b[0m expected an indented block after 'for' statement on line 1\n"
          ]
        }
      ]
    },
    {
      "cell_type": "code",
      "source": [],
      "metadata": {
        "id": "gCpMyA0P3iRo"
      },
      "execution_count": null,
      "outputs": []
    },
    {
      "source": [
        "for e in range(1, 3):  # Ahora el rango es (1, 3), iterando solo dos veces\n",
        "    nota1 = float(input(\"Ingrese la primera nota del estudiante {}: \".format(e)))\n",
        "    nota2 = float(input(\"Ingrese la segunda nota del estudiante {}: \".format(e)))\n",
        "    promedio = (nota1 + nota2) / 2\n",
        "    print(f\"El promedio del estudiante {e} es: {promedio}\")"
      ],
      "cell_type": "code",
      "metadata": {
        "colab": {
          "base_uri": "https://localhost:8080/"
        },
        "id": "eCK3Z_p23i2v",
        "outputId": "f718c290-8779-4125-c367-00e0d375c556"
      },
      "execution_count": null,
      "outputs": [
        {
          "output_type": "stream",
          "name": "stdout",
          "text": [
            "Ingrese la primera nota del estudiante 1: 7.0\n",
            "Ingrese la segunda nota del estudiante 1: 5.6\n",
            "El promedio del estudiante 1 es: 6.3\n",
            "Ingrese la primera nota del estudiante 2: 5.55\n",
            "Ingrese la segunda nota del estudiante 2: 7.0\n",
            "El promedio del estudiante 2 es: 6.275\n"
          ]
        }
      ]
    },
    {
      "cell_type": "code",
      "source": [
        "#Escribe un programa que solicite dos números enteros e imprima todos los números enteros entre ellos.\n",
        "numero1 = int(input(\"Ingrese el primer número entero: \"))\n",
        "numero2 = int(input(\"Ingrese el segundo número entero: \"))\n",
        "print(f\"Los números enteros entre {numero1} y {numero2} son:\")\n",
        "for numero in range(numero1 + 1, numero2):\n",
        "  print(numero)\n",
        "\n"
      ],
      "metadata": {
        "colab": {
          "base_uri": "https://localhost:8080/"
        },
        "id": "rY6a7e7LA0pU",
        "outputId": "9a299316-3339-4b56-be14-e1a03cfdd39a"
      },
      "execution_count": null,
      "outputs": [
        {
          "output_type": "stream",
          "name": "stdout",
          "text": [
            "Ingrese el primer número entero: 2\n",
            "Ingrese el segundo número entero: 4\n",
            "Los números enteros entre 2 y 4 son:\n",
            "3\n"
          ]
        }
      ]
    },
    {
      "cell_type": "code",
      "source": [
        "#Escribe un programa para calcular cuántos días tomará que la colonia de una bacteria A supere o iguale a la colonia de una bacteria B, basado en tasas de crecimiento del 3% y 1.5%, respectivamente. Supón que la colonia A comienza con 4 elementos y B con 10.\n",
        "bacterias_a = 4\n",
        "bacterias_b = 10\n",
        "dias = 0\n",
        "\n",
        "while bacterias_a < bacterias_b:  # Mientras la colonia A sea menor que la colonia B\n",
        "    bacterias_a *= 1.03  # Aumenta la colonia A en un 3% (multiplica por 1.03)\n",
        "    bacterias_b *= 1.015 # Aumenta la colonia B en un 1.5% (multiplica por 1.015)\n",
        "    dias += 1  # Incrementa el contador de días\n",
        "\n",
        "print(f\"Tomará {dias} días para que la colonia de bacterias A supere o iguale a la colonia de bacterias B.\")"
      ],
      "metadata": {
        "colab": {
          "base_uri": "https://localhost:8080/"
        },
        "id": "ZRGgXdT9BT3k",
        "outputId": "0a202d3c-bba1-41f8-9e55-1fe986984e82"
      },
      "execution_count": null,
      "outputs": [
        {
          "output_type": "stream",
          "name": "stdout",
          "text": [
            "Tomará 63 días para que la colonia de bacterias A supere o iguale a la colonia de bacterias B.\n"
          ]
        }
      ]
    },
    {
      "cell_type": "code",
      "source": [
        "#Para procesar una cantidad de 15 datos de evaluaciones de usuarios de un servicio de la empresa, necesitamos verificar si las calificaciones son válidas. Por lo tanto, escribe un programa que recibirá calificaciones del 0 al 5 y verificará si son valores válidos. Si se ingresa una calificación superior a 5 o inferior a 0, se repetirá hasta que el usuario ingrese un valor válido.\n",
        "calificaciones_validas = []  # Lista para almacenar las calificaciones válidas\n",
        "\n",
        "for i in range(15):\n",
        "    while True:\n",
        "        try:\n",
        "            calificacion = int(input(f\"Ingrese la calificación del usuario {i + 1} (0-5): \"))\n",
        "            if 0 <= calificacion <= 5:\n",
        "                calificaciones_validas.append(calificacion)\n",
        "                break  # Sale del bucle while si la calificación es válida\n",
        "            else:\n",
        "                print(\"Calificación inválida. Ingrese un valor entre 0 y 5.\")\n",
        "        except ValueError:\n",
        "            print(\"Entrada inválida. Ingrese un número entero.\")\n",
        "\n",
        "print(\"Calificaciones válidas ingresadas:\", calificaciones_validas)3\n",
        "\n",
        "\n"
      ],
      "metadata": {
        "colab": {
          "base_uri": "https://localhost:8080/"
        },
        "id": "Ca1D4XuiCXyG",
        "outputId": "4098a9da-bd98-42f9-e3b8-dc1c25f50fa2"
      },
      "execution_count": null,
      "outputs": [
        {
          "output_type": "stream",
          "name": "stdout",
          "text": [
            "Ingrese la calificación del usuario 1 (0-5): 5\n",
            "Ingrese la calificación del usuario 2 (0-5): 2\n",
            "Ingrese la calificación del usuario 3 (0-5): 4\n",
            "Ingrese la calificación del usuario 4 (0-5): 5\n",
            "Ingrese la calificación del usuario 5 (0-5): 3\n",
            "Ingrese la calificación del usuario 6 (0-5): \n",
            "Entrada inválida. Ingrese un número entero.\n",
            "Ingrese la calificación del usuario 6 (0-5): 3\n",
            "Ingrese la calificación del usuario 7 (0-5): 2\n",
            "Ingrese la calificación del usuario 8 (0-5): 5\n",
            "Ingrese la calificación del usuario 9 (0-5): 5\n",
            "Ingrese la calificación del usuario 10 (0-5): 5\n",
            "Ingrese la calificación del usuario 11 (0-5): 4\n",
            "Ingrese la calificación del usuario 12 (0-5): 4\n",
            "Ingrese la calificación del usuario 13 (0-5): 4\n",
            "Ingrese la calificación del usuario 14 (0-5): 5\n",
            "Ingrese la calificación del usuario 15 (0-5): 5\n",
            "Calificaciones válidas ingresadas: [5, 2, 4, 5, 3, 3, 2, 5, 5, 5, 4, 4, 4, 5, 5]\n"
          ]
        }
      ]
    },
    {
      "cell_type": "code",
      "source": [
        "#Desarrolla un programa que lea un conjunto indefinido de temperaturas en grados Celsius y calcule su promedio. La lectura debe detenerse al ingresar el valor -273°C.\n",
        "temperaturas = []  # Lista para almacenar las temperaturas ingresadas1\n",
        "-1\n",
        "-2-90\n",
        "\n",
        "\n",
        "while True:\n",
        "    try:\n",
        "        temperatura = float(input(\"Ingrese una temperatura en grados Celsius (-273 para terminar): \"))\n",
        "        if temperatura == -273:\n",
        "            break  # Sale del bucle si se ingresa -273\n",
        "        temperaturas.append(temperatura)\n",
        "    except ValueError:\n",
        "        print(\"Entrada inválida. Ingrese un número.\")\n",
        "\n",
        "if temperaturas:  # Verifica si se ingresaron temperaturas\n",
        "    promedio = sum(temperaturas) / len(temperaturas)\n",
        "    print(f\"El promedio de las temperaturas ingresadas es: {promedio:.2f}°C\")\n",
        "else:\n",
        "    print(\"No se ingresaron temperaturas.\")"
      ],
      "metadata": {
        "colab": {
          "base_uri": "https://localhost:8080/"
        },
        "id": "42fKtCNQDypp",
        "outputId": "195a09a8-d8ea-4c88-cd29-f2c517dad8c4"
      },
      "execution_count": null,
      "outputs": [
        {
          "output_type": "stream",
          "name": "stdout",
          "text": [
            "Ingrese una temperatura en grados Celsius (-273 para terminar): 25\n",
            "Ingrese una temperatura en grados Celsius (-273 para terminar): 32\n",
            "Ingrese una temperatura en grados Celsius (-273 para terminar): 26\n",
            "Ingrese una temperatura en grados Celsius (-273 para terminar): 27\n",
            "Ingrese una temperatura en grados Celsius (-273 para terminar): 40\n",
            "Ingrese una temperatura en grados Celsius (-273 para terminar): 44\n",
            "Ingrese una temperatura en grados Celsius (-273 para terminar): 40\n",
            "Ingrese una temperatura en grados Celsius (-273 para terminar): 55\n",
            "Ingrese una temperatura en grados Celsius (-273 para terminar): 43\n",
            "Ingrese una temperatura en grados Celsius (-273 para terminar): -100\n",
            "Ingrese una temperatura en grados Celsius (-273 para terminar): -500\n",
            "Ingrese una temperatura en grados Celsius (-273 para terminar): -500\n",
            "Ingrese una temperatura en grados Celsius (-273 para terminar): -273\n",
            "El promedio de las temperaturas ingresadas es: -64.00°C\n"
          ]
        }
      ]
    },
    {
      "cell_type": "code",
      "source": [
        "#- Escribe un programa que calcule el factorial de un número entero proporcionado por el usuario. Recuerda que el factorial de un número entero es el producto de ese número por todos sus antecesores hasta llegar al número 1. Por ejemplo, el factorial de 5 es 5 x 4 x 3 x 2 x 1 = 120.\n",
        "def calcular_factorial(numero):\n",
        "    \"\"\"Calcula el factorial de un número entero.\n",
        "\n",
        "    Args:\n",
        "        numero: El número entero para el cual se calculará el factorial.\n",
        "\n",
        "    Returns:\n",
        "        El factorial del número, o 1 si el número es 0.\n",
        "    \"\"\"\n",
        "    if numero == 0:\n",
        "        return 1\n",
        "    else:\n",
        "        factorial = 1\n",
        "        for i in range(1, numero + 1):\n",
        "            factorial *= i\n",
        "        return factorial\n",
        "\n",
        "# Solicitar al usuario el número\n",
        "numero = int(input(\"Ingrese un número entero: \"))\n",
        "\n",
        "# Calcular el factorial\n",
        "factorial = calcular_factorial(numero)\n",
        "\n",
        "# Imprimir el resultado\n",
        "print(f\"El factorial de {numero} es: {factorial}\")"
      ],
      "metadata": {
        "colab": {
          "base_uri": "https://localhost:8080/"
        },
        "id": "lzEsIXoOMlka",
        "outputId": "3397aea5-f7de-41d0-8799-6b5a8a417704"
      },
      "execution_count": null,
      "outputs": [
        {
          "output_type": "stream",
          "name": "stdout",
          "text": [
            "Ingrese un número entero: 34\n",
            "El factorial de 34 es: 295232799039604140847618609643520000000\n"
          ]
        }
      ]
    },
    {
      "cell_type": "code",
      "source": [
        "# Solicitar al usuario el número para la tabla de multiplicar\n",
        "numero = int(input(\"Ingrese un número entero para generar su tabla de multiplicar: \"))\n",
        "\n",
        "# Imprimir el encabezado de la tabla\n",
        "print(f\"Tabla de multiplicar del {numero}:\")\n",
        "\n",
        "# Generar e imprimir la tabla de multiplicar\n",
        "for i in range(1, 11):\n",
        "    resultado = numero * i\n",
        "    print(f\"{numero} x {i} = {resultado}\")"
      ],
      "metadata": {
        "colab": {
          "base_uri": "https://localhost:8080/"
        },
        "id": "ZHeAdB6QM6o_",
        "outputId": "de887a75-f5a4-438a-f2ce-603525aee69a"
      },
      "execution_count": null,
      "outputs": [
        {
          "output_type": "stream",
          "name": "stdout",
          "text": [
            "Ingrese un número entero para generar su tabla de multiplicar: 2\n",
            "Tabla de multiplicar del 2:\n",
            "2 x 1 = 2\n",
            "2 x 2 = 4\n",
            "2 x 3 = 6\n",
            "2 x 4 = 8\n",
            "2 x 5 = 10\n",
            "2 x 6 = 12\n",
            "2 x 7 = 14\n",
            "2 x 8 = 16\n",
            "2 x 9 = 18\n",
            "2 x 10 = 20\n"
          ]
        }
      ]
    },
    {
      "cell_type": "code",
      "source": [
        "#Los números primos tienen diversas aplicaciones en Ciencia de Datos, como en criptografía y seguridad. Un número primo es aquel que es divisible solo por sí mismo y por 1. Por lo tanto, crea un programa que solicite un número entero y determine si es un número primo o no.\n",
        "def es_primo(numero):\n",
        "  \"\"\"Determina si un número es primo.\n",
        "\n",
        "  Args:\n",
        "      numero: El número a evaluar.\n",
        "\n",
        "  Returns:\n",
        "      True si el número es primo, False en caso contrario.\n",
        "  \"\"\"\n",
        "  if numero <= 1:\n",
        "    return False  # Los números menores o iguales a 1 no son primos\n",
        "  for i in range(2, int(numero**0.5) + 1):\n",
        "    if numero % i == 0:\n",
        "      return False  # Si es divisible por algún número en el rango, no es primo\n",
        "  return True  # Si no se encontró ningún divisor, es primo\n",
        "\n",
        "\n",
        "# Solicitar al usuario un número entero\n",
        "numero = int(input(\"Ingrese un número entero: \"))\n",
        "\n",
        "# Verificar si es primo y mostrar el resultado\n",
        "if es_primo(numero):\n",
        "  print(f\"{numero} es un número primo.\")\n",
        "else:\n",
        "  print(f\"{numero} no es un número primo.\")"
      ],
      "metadata": {
        "colab": {
          "base_uri": "https://localhost:8080/"
        },
        "id": "hNP6IUV0NnFj",
        "outputId": "1b7611df-c048-4079-c7fb-b1c2e78b2c13"
      },
      "execution_count": null,
      "outputs": [
        {
          "output_type": "stream",
          "name": "stdout",
          "text": [
            "Ingrese un número entero: 5\n",
            "5 es un número primo.\n"
          ]
        }
      ]
    },
    {
      "cell_type": "code",
      "source": [
        "#Vamos a comprender la distribución de edades de los pensionistas de una empresa de seguros. Escribe un programa que lea las edades de una cantidad no informada de clientes y muestre la distribución en los intervalos [0-25], [26-50], [51-75] y [76-100]. La entrada de datos se detendrá al ingresar un número negativo.\n",
        "intervalos = {\n",
        "    \"0-25\": 0,\n",
        "    \"26-50\": 0,\n",
        "    \"51-75\": 0,\n",
        "    \"76-100\": 0\n",
        "}\n",
        "\n",
        "while True:\n",
        "    try:\n",
        "        edad = int(input(\"Ingrese la edad del cliente (número negativo para terminar): \"))\n",
        "        if edad < 0:\n",
        "            break  # Salir del bucle si se ingresa un número negativo\n",
        "\n",
        "        if 0 <= edad <= 25:\n",
        "            intervalos[\"0-25\"] += 1\n",
        "        elif 26 <= edad <= 50:\n",
        "            intervalos[\"26-50\"] += 1\n",
        "        elif 51 <= edad <= 75:\n",
        "            intervalos[\"51-75\"] += 1\n",
        "        elif 76 <= edad <= 100:\n",
        "            intervalos[\"76-100\"] += 1\n",
        "        else:\n",
        "            print(\"Edad fuera del rango (0-100).\")\n",
        "\n",
        "    except ValueError:\n",
        "        print(\"Entrada inválida. Ingrese un número entero.\")\n",
        "\n",
        "# Mostrar la distribución de edades\n",
        "print(\"\\nDistribución de edades:\")\n",
        "for intervalo, cantidad in intervalos.items():\n",
        "    print(f\"{intervalo}: {cantidad} clientes\")\n"
      ],
      "metadata": {
        "colab": {
          "base_uri": "https://localhost:8080/"
        },
        "id": "4gWSwkATOCfI",
        "outputId": "f9e1f304-632b-43ca-c5d9-50d5bc55969d"
      },
      "execution_count": null,
      "outputs": [
        {
          "output_type": "stream",
          "name": "stdout",
          "text": [
            "Ingrese la edad del cliente (número negativo para terminar): 55\n",
            "Ingrese la edad del cliente (número negativo para terminar): 45\n",
            "Ingrese la edad del cliente (número negativo para terminar): 56\n",
            "Ingrese la edad del cliente (número negativo para terminar): 54\n",
            "Ingrese la edad del cliente (número negativo para terminar): -1\n",
            "\n",
            "Distribución de edades:\n",
            "0-25: 0 clientes\n",
            "26-50: 1 clientes\n",
            "51-75: 3 clientes\n",
            "76-100: 0 clientes\n"
          ]
        }
      ]
    },
    {
      "cell_type": "code",
      "source": [
        "#En una elección para la gerencia de una empresa con 20 empleados, hay cuatro candidatos. Escribe un programa que calcule al ganador de la elección. La votación se realizó de la siguiente manera:\n",
        "# Inicializar un diccionario para almacenar los votos\n",
        "votos = {\n",
        "    \"Candidato 1\": 0,\n",
        "    \"Candidato 2\": 0,\n",
        "    \"Candidato 3\": 0,\n",
        "    \"Candidato 4\": 0,\n",
        "    \"Votos nulos\": 0,\n",
        "    \"Votos en blanco\": 0\n",
        "}\n",
        "\n",
        "# Solicitar los votos de los 20 empleados\n",
        "for i in range(20):\n",
        "    while True:\n",
        "        try:\n",
        "            voto = int(input(f\"Empleado {i + 1}, ingrese el número de su candidato (1-4), 5 para nulo, 6 para blanco: \"))\n",
        "            if 1 <= voto <= 6:\n",
        "                if voto == 5:\n",
        "                    votos[\"Votos nulos\"] += 1\n",
        "                elif voto == 6:\n",
        "                    votos[\"Votos en blanco\"] += 1\n",
        "                else:\n",
        "                    candidato = \"Candidato \" + str(voto)\n",
        "                    votos[candidato] += 1\n",
        "                break\n",
        "            else:\n",
        "                print(\"Voto inválido. Ingrese un número entre 1 y 6.\")\n",
        "        except ValueError:\n",
        "            print(\"Entrada inválida. Ingrese un número entero.\")\n",
        "\n",
        "# Calcular el total de votos\n",
        "total_votos = sum(votos.values())\n",
        "\n",
        "# Calcular porcentajes de votos nulos y en blanco\n",
        "porcentaje_nulos = (votos[\"Votos nulos\"] / total_votos) * 100\n",
        "porcentaje_blancos = (votos[\"Votos en blanco\"] / total_votos) * 100\n",
        "\n",
        "# Encontrar al candidato con más votos (excluyendo nulos y blancos)\n",
        "ganador = max(votos, key=votos.get)\n",
        "# Si el ganador es nulo o blanco, buscar el siguiente con más votos\n",
        "while ganador in [\"Votos nulos\", \"Votos en blanco\"]:\n",
        "  del votos[ganador]\n",
        "  ganador = max(votos, key=votos.get)\n",
        "\n",
        "# Imprimir los resultados\n",
        "print(\"\\nResultados de la elección:\")\n",
        "for candidato, cantidad_votos in votos.items():\n",
        "    print(f\"{candidato}: {cantidad_votos} votos\")\n",
        "\n",
        "print(f\"\\nPorcentaje de votos nulos: {porcentaje_nulos:.2f}%\")\n",
        "print(f\"Porcentaje de votos en blanco: {porcentaje_blancos:.2f}%\")\n",
        "print(f\"\\nEl ganador de la elección es: {ganador}\")"
      ],
      "metadata": {
        "colab": {
          "base_uri": "https://localhost:8080/",
          "height": 510
        },
        "id": "KAuS3DZWOlWk",
        "outputId": "7f66d5cf-4f8f-4b44-c8ff-ff6d95b027c1"
      },
      "execution_count": null,
      "outputs": [
        {
          "name": "stdout",
          "output_type": "stream",
          "text": [
            "Empleado 1, ingrese el número de su candidato (1-4), 5 para nulo, 6 para blanco: 0\n",
            "Voto inválido. Ingrese un número entre 1 y 6.\n",
            "Empleado 1, ingrese el número de su candidato (1-4), 5 para nulo, 6 para blanco: nulo\n",
            "Entrada inválida. Ingrese un número entero.\n",
            "Empleado 1, ingrese el número de su candidato (1-4), 5 para nulo, 6 para blanco: 5\n"
          ]
        },
        {
          "output_type": "error",
          "ename": "KeyboardInterrupt",
          "evalue": "Interrupted by user",
          "traceback": [
            "\u001b[0;31m---------------------------------------------------------------------------\u001b[0m",
            "\u001b[0;31mKeyboardInterrupt\u001b[0m                         Traceback (most recent call last)",
            "\u001b[0;32m<ipython-input-17-2b71513202a5>\u001b[0m in \u001b[0;36m<cell line: 0>\u001b[0;34m()\u001b[0m\n\u001b[1;32m     14\u001b[0m     \u001b[0;32mwhile\u001b[0m \u001b[0;32mTrue\u001b[0m\u001b[0;34m:\u001b[0m\u001b[0;34m\u001b[0m\u001b[0;34m\u001b[0m\u001b[0m\n\u001b[1;32m     15\u001b[0m         \u001b[0;32mtry\u001b[0m\u001b[0;34m:\u001b[0m\u001b[0;34m\u001b[0m\u001b[0;34m\u001b[0m\u001b[0m\n\u001b[0;32m---> 16\u001b[0;31m             \u001b[0mvoto\u001b[0m \u001b[0;34m=\u001b[0m \u001b[0mint\u001b[0m\u001b[0;34m(\u001b[0m\u001b[0minput\u001b[0m\u001b[0;34m(\u001b[0m\u001b[0;34mf\"Empleado {i + 1}, ingrese el número de su candidato (1-4), 5 para nulo, 6 para blanco: \"\u001b[0m\u001b[0;34m)\u001b[0m\u001b[0;34m)\u001b[0m\u001b[0;34m\u001b[0m\u001b[0;34m\u001b[0m\u001b[0m\n\u001b[0m\u001b[1;32m     17\u001b[0m             \u001b[0;32mif\u001b[0m \u001b[0;36m1\u001b[0m \u001b[0;34m<=\u001b[0m \u001b[0mvoto\u001b[0m \u001b[0;34m<=\u001b[0m \u001b[0;36m6\u001b[0m\u001b[0;34m:\u001b[0m\u001b[0;34m\u001b[0m\u001b[0;34m\u001b[0m\u001b[0m\n\u001b[1;32m     18\u001b[0m                 \u001b[0;32mif\u001b[0m \u001b[0mvoto\u001b[0m \u001b[0;34m==\u001b[0m \u001b[0;36m5\u001b[0m\u001b[0;34m:\u001b[0m\u001b[0;34m\u001b[0m\u001b[0;34m\u001b[0m\u001b[0m\n",
            "\u001b[0;32m/usr/local/lib/python3.11/dist-packages/ipykernel/kernelbase.py\u001b[0m in \u001b[0;36mraw_input\u001b[0;34m(self, prompt)\u001b[0m\n\u001b[1;32m   1175\u001b[0m                 \u001b[0;34m\"raw_input was called, but this frontend does not support input requests.\"\u001b[0m\u001b[0;34m\u001b[0m\u001b[0;34m\u001b[0m\u001b[0m\n\u001b[1;32m   1176\u001b[0m             )\n\u001b[0;32m-> 1177\u001b[0;31m         return self._input_request(\n\u001b[0m\u001b[1;32m   1178\u001b[0m             \u001b[0mstr\u001b[0m\u001b[0;34m(\u001b[0m\u001b[0mprompt\u001b[0m\u001b[0;34m)\u001b[0m\u001b[0;34m,\u001b[0m\u001b[0;34m\u001b[0m\u001b[0;34m\u001b[0m\u001b[0m\n\u001b[1;32m   1179\u001b[0m             \u001b[0mself\u001b[0m\u001b[0;34m.\u001b[0m\u001b[0m_parent_ident\u001b[0m\u001b[0;34m[\u001b[0m\u001b[0;34m\"shell\"\u001b[0m\u001b[0;34m]\u001b[0m\u001b[0;34m,\u001b[0m\u001b[0;34m\u001b[0m\u001b[0;34m\u001b[0m\u001b[0m\n",
            "\u001b[0;32m/usr/local/lib/python3.11/dist-packages/ipykernel/kernelbase.py\u001b[0m in \u001b[0;36m_input_request\u001b[0;34m(self, prompt, ident, parent, password)\u001b[0m\n\u001b[1;32m   1217\u001b[0m             \u001b[0;32mexcept\u001b[0m \u001b[0mKeyboardInterrupt\u001b[0m\u001b[0;34m:\u001b[0m\u001b[0;34m\u001b[0m\u001b[0;34m\u001b[0m\u001b[0m\n\u001b[1;32m   1218\u001b[0m                 \u001b[0;31m# re-raise KeyboardInterrupt, to truncate traceback\u001b[0m\u001b[0;34m\u001b[0m\u001b[0;34m\u001b[0m\u001b[0m\n\u001b[0;32m-> 1219\u001b[0;31m                 \u001b[0;32mraise\u001b[0m \u001b[0mKeyboardInterrupt\u001b[0m\u001b[0;34m(\u001b[0m\u001b[0;34m\"Interrupted by user\"\u001b[0m\u001b[0;34m)\u001b[0m \u001b[0;32mfrom\u001b[0m \u001b[0;32mNone\u001b[0m\u001b[0;34m\u001b[0m\u001b[0;34m\u001b[0m\u001b[0m\n\u001b[0m\u001b[1;32m   1220\u001b[0m             \u001b[0;32mexcept\u001b[0m \u001b[0mException\u001b[0m\u001b[0;34m:\u001b[0m\u001b[0;34m\u001b[0m\u001b[0;34m\u001b[0m\u001b[0m\n\u001b[1;32m   1221\u001b[0m                 \u001b[0mself\u001b[0m\u001b[0;34m.\u001b[0m\u001b[0mlog\u001b[0m\u001b[0;34m.\u001b[0m\u001b[0mwarning\u001b[0m\u001b[0;34m(\u001b[0m\u001b[0;34m\"Invalid Message:\"\u001b[0m\u001b[0;34m,\u001b[0m \u001b[0mexc_info\u001b[0m\u001b[0;34m=\u001b[0m\u001b[0;32mTrue\u001b[0m\u001b[0;34m)\u001b[0m\u001b[0;34m\u001b[0m\u001b[0;34m\u001b[0m\u001b[0m\n",
            "\u001b[0;31mKeyboardInterrupt\u001b[0m: Interrupted by user"
          ]
        }
      ]
    },
    {
      "cell_type": "code",
      "source": [
        "#Calentamiento 1 - Escribe un código que lee la lista siguiente y realiza:\n",
        "#lista = [16, 14, 63, 65, 17, 99, 70, 11, 20, 48, 79, 32, 17, 89, 12, 25, 66]\n",
        "# 1. Leer el tamaño de la lista\n",
        "# 2. Leer el valor máximo y mínimo\n",
        "# 3. Calcular la suma de los valores de la lista\n",
        "# 4. Mostrar un mensaje al final: La lista tiene `tamano` números, donde el mayor\n",
        "# es `mayor` y el menor es `menor`. La suma de los valores es `suma`.\n",
        "\n",
        "\n",
        "\n",
        "lista = [16, 14, 63, 65, 17, 99, 70, 11, 20, 48, 79, 32, 17, 89, 12, 25, 66]\n",
        "\n",
        "# 1. Leer el tamaño de la lista\n",
        "tamano = len(lista)\n",
        "\n",
        "# 2. Leer el valor máximo y mínimo\n",
        "mayor = max(lista)\n",
        "menor = min(lista)\n",
        "\n",
        "# 3. Calcular la suma de los valores de la lista\n",
        "suma = sum(lista)\n",
        "\n",
        "# 4. Mostrar un mensaje al final\n",
        "print(f\"La lista tiene {tamano} números, donde el mayor es {mayor} y el menor es {menor}. La suma de los valores es {suma}.\")\n"
      ],
      "metadata": {
        "colab": {
          "base_uri": "https://localhost:8080/"
        },
        "id": "zRM9aCJK8m5v",
        "outputId": "a4ab2ff8-efee-4ecf-a039-81b6a56d8232"
      },
      "execution_count": null,
      "outputs": [
        {
          "output_type": "stream",
          "name": "stdout",
          "text": [
            "La lista tiene 17 números, donde el mayor es 99 y el menor es 11. La suma de los valores es 743.\n"
          ]
        }
      ]
    },
    {
      "cell_type": "code",
      "source": [
        "#2 - Escribe una función que genere la tabla de multiplicar de un número entero del 1 al 10, según la elección del usuario. Como ejemplo, para el número 7, la tabla de multiplicar se debe mostrar en el siguiente formato:\n",
        "def generar_tabla_multiplicar(numero):\n",
        "  \"\"\"Genera la tabla de multiplicar de un número del 1 al 10.\n",
        "\n",
        "  Args:\n",
        "    numero: El número para el cual se generará la tabla.\n",
        "  \"\"\"\n",
        "  print(f\"Tabla de multiplicar del {numero}:\")\n",
        "  for i in range(1, 11):\n",
        "    resultado = numero * i\n",
        "    print(f\"{numero} x {i} = {resultado}\")\n",
        "\n",
        "# Solicitar al usuario el número para la tabla de multiplicar\n",
        "numero = int(input(\"Ingrese un número entero para generar su tabla de multiplicar: \"))\n",
        "\n",
        "# Llamar a la función para generar e imprimir la tabla\n",
        "generar_tabla_multiplicar(numero)"
      ],
      "metadata": {
        "colab": {
          "base_uri": "https://localhost:8080/"
        },
        "id": "72GvlLHP9T-l",
        "outputId": "09c07933-0bea-49c0-d9fe-4d14d49d0507"
      },
      "execution_count": null,
      "outputs": [
        {
          "output_type": "stream",
          "name": "stdout",
          "text": [
            "Ingrese un número entero para generar su tabla de multiplicar: 2\n",
            "Tabla de multiplicar del 2:\n",
            "2 x 1 = 2\n",
            "2 x 2 = 4\n",
            "2 x 3 = 6\n",
            "2 x 4 = 8\n",
            "2 x 5 = 10\n",
            "2 x 6 = 12\n",
            "2 x 7 = 14\n",
            "2 x 8 = 16\n",
            "2 x 9 = 18\n",
            "2 x 10 = 20\n"
          ]
        }
      ]
    },
    {
      "cell_type": "code",
      "source": [
        "#3 - Crea una función que lea la siguiente lista y devuelva una nueva lista con los múltiplos de 3:\n",
        "def obtener_multiplos_de_3(lista):\n",
        "  \"\"\"\n",
        "  Recibe una lista de números y devuelve una nueva lista con los múltiplos de 3.\n",
        "\n",
        "  Args:\n",
        "    lista: La lista de números a evaluar.\n",
        "\n",
        "  Returns:\n",
        "    Una nueva lista que contiene solo los múltiplos de 3 de la lista original.\n",
        "  \"\"\"\n",
        "  multiplos_de_3 = []  # Inicializa una lista vacía para almacenar los múltiplos de 3\n",
        "  for numero in lista:  # Recorre cada número en la lista original\n",
        "    if numero % 3 == 0:  # Si el número es divisible entre 3 (es un múltiplo de 3)\n",
        "      multiplos_de_3.append(numero)  # Agrega el número a la lista de múltiplos de 3\n",
        "  return multiplos_de_3  # Devuelve la lista de múltiplos de 3\n",
        "\n",
        "# Ejemplo de uso\n",
        "mi_lista = [16, 14, 63, 65, 17, 99, 70, 11, 20, 48, 79, 32, 17, 89, 12, 25, 66]\n",
        "multiplos = obtener_multiplos_de_3(mi_lista)\n",
        "print(f\"Los múltiplos de 3 en la lista son: {multiplos}\")"
      ],
      "metadata": {
        "colab": {
          "base_uri": "https://localhost:8080/"
        },
        "id": "Vzrq1cal91bC",
        "outputId": "3446804a-e844-45f8-9451-8f42ec34a68f"
      },
      "execution_count": null,
      "outputs": [
        {
          "output_type": "stream",
          "name": "stdout",
          "text": [
            "Los múltiplos de 3 en la lista son: [63, 99, 48, 12, 66]\n"
          ]
        }
      ]
    },
    {
      "cell_type": "code",
      "source": [
        "#4 - Crea una lista de los cuadrados de los números de la siguiente lista [1, 2, 3, 4, 5, 6, 7, 8, 9, 10]. Recuerda utilizar las funciones lambda y map() para calcular el cuadrado de cada elemento de la lista.\n",
        "numeros = [1, 2, 3, 4, 5, 6, 7, 8, 9, 10]\n",
        "\n",
        "# Usando lambda y map para calcular los cuadrados\n",
        "cuadrados = list(map(lambda x: x**2, numeros))\n",
        "\n",
        "# Imprimir la lista de cuadrados\n",
        "print(f\"Lista de cuadrados: {cuadrados}\")\n"
      ],
      "metadata": {
        "colab": {
          "base_uri": "https://localhost:8080/"
        },
        "id": "ck7q2b3C-FeH",
        "outputId": "7f35f366-7121-46dd-c281-567a5025aa1d"
      },
      "execution_count": null,
      "outputs": [
        {
          "output_type": "stream",
          "name": "stdout",
          "text": [
            "Lista de cuadrados: [1, 4, 9, 16, 25, 36, 49, 64, 81, 100]\n"
          ]
        }
      ]
    },
    {
      "cell_type": "code",
      "source": [
        "#5 - Has sido contratado como científico(a) de datos de una asociación de skate. Para analizar las notas recibidas por los skaters en algunas competiciones a lo largo del año, necesitas crear un código que calcule la puntuación de los atletas. Para ello, tu código debe recibir 5 notas ingresadas por los jueces.\n",
        "\n",
        "def calcular_puntuacion_skater():\n",
        "  \"\"\"Calcula la puntuación de un skater en una competición.\n",
        "\n",
        "  Solicita 5 notas de los jueces, descarta la mayor y la menor,\n",
        "  y calcula el promedio de las 3 notas restantes.\n",
        "\n",
        "  Returns:\n",
        "    La puntuación final del skater.\n",
        "  \"\"\"\n",
        "  notas = []\n",
        "  for i in range(1, 6):\n",
        "    while True:\n",
        "      try:\n",
        "        nota = float(input(f\"Ingrese la nota del juez {i}: \"))\n",
        "        if 0 <= nota <= 10:  # Validar que la nota esté entre 0 y 10\n",
        "          notas.append(nota)\n",
        "          break\n",
        "        else:\n",
        "          print(\"Nota inválida. Ingrese un valor entre 0 y 10.\")\n",
        "      except ValueError:\n",
        "        print(\"Entrada inválida. Ingrese un número.\")\n",
        "\n",
        "  notas.sort()  # Ordenar las notas de menor a mayor\n",
        "  notas = notas[1:4]  # Descartar la nota más baja y la más alta\n",
        "\n",
        "  puntuacion_final = sum(notas) / len(notas)  # Calcular el promedio\n",
        "  return puntuacion_final\n",
        "\n",
        "# Ejemplo de uso\n",
        "puntuacion = calcular_puntuacion_skater()\n",
        "print(f\"La puntuación final del skater es: {puntuacion}\")"
      ],
      "metadata": {
        "colab": {
          "base_uri": "https://localhost:8080/"
        },
        "id": "SZrgey3A-_x9",
        "outputId": "c3ae0f22-a65c-4752-a17c-c6318484c925"
      },
      "execution_count": null,
      "outputs": [
        {
          "output_type": "stream",
          "name": "stdout",
          "text": [
            "Ingrese la nota del juez 1: 3\n",
            "Ingrese la nota del juez 2: 2\n",
            "Ingrese la nota del juez 3: 5\n",
            "Ingrese la nota del juez 4: 1\n",
            "Ingrese la nota del juez 5: 2\n",
            "La puntuación final del skater es: 2.3333333333333335\n"
          ]
        }
      ]
    },
    {
      "cell_type": "code",
      "source": [
        "#6 - Para cumplir con una demanda de una institución educativa para el análisis del rendimiento de sus estudiantes, necesitas crear una función que reciba una lista de 4 notas y devuelva:\n",
        "\n",
        "# mayor nota\n",
        "# menor nota\n",
        "# media\n",
        "# situación (Aprobado(a) o Reprobado(a))\n",
        "# Uso de la función\n",
        "# Mostrar: El estudiante obtuvo una media de `media`, con la mayor nota de `mayor` puntos y la menor nota de `menor` puntos y fue `situacion`.)\n",
        "\n",
        "\n",
        "def analizar_rendimiento_estudiante(notas):\n",
        "  \"\"\"Analiza el rendimiento de un estudiante en función de sus notas.\n",
        "\n",
        "  Args:\n",
        "    notas: Una lista de 4 notas del estudiante.\n",
        "\n",
        "  Returns:\n",
        "    Una tupla que contiene:\n",
        "      - mayor: La mayor nota.\n",
        "      - menor: La menor nota.\n",
        "      - media: La media de las notas.\n",
        "      - situacion: \"Aprobado(a)\" o \"Reprobado(a)\".\n",
        "  \"\"\"\n",
        "  mayor = max(notas)\n",
        "  menor = min(notas)\n",
        "  media = sum(notas) / len(notas)\n",
        "  situacion = \"Aprobado(a)\" if media >= 7 else \"Reprobado(a)\"  # Criterio de aprobación: media >= 7\n",
        "  return mayor, menor, media, situacion\n",
        "\n",
        "# Ejemplo de uso\n",
        "notas_estudiante = [8.5, 7.2, 9.1, 6.8]\n",
        "mayor, menor, media, situacion = analizar_rendimiento_estudiante(notas_estudiante)\n",
        "print(f\"El estudiante obtuvo una media de {media}, con la mayor nota de {mayor} puntos y la menor nota de {menor} puntos y fue {situacion}.\")\n"
      ],
      "metadata": {
        "colab": {
          "base_uri": "https://localhost:8080/"
        },
        "id": "wsTvVNwu_dX3",
        "outputId": "dd4fa77e-e269-4231-e806-9dd92444ba4e"
      },
      "execution_count": null,
      "outputs": [
        {
          "output_type": "stream",
          "name": "stdout",
          "text": [
            "El estudiante obtuvo una media de 7.8999999999999995, con la mayor nota de 9.1 puntos y la menor nota de 6.8 puntos y fue Aprobado(a).\n"
          ]
        }
      ]
    },
    {
      "cell_type": "code",
      "source": [
        "#7 - Has recibido una demanda para tratar 2 listas con los nombres y apellidos de cada estudiante concatenándolos para presentar sus nombres completos en la forma Nombre Apellido. Las listas son:\n",
        "\n",
        "nombres = [\"juan\", \"MaRia\", \"JOSÉ\"]\n",
        "apellidos = [\"SILVA\", \"sosa\", \"Tavares\"]\n",
        "\n",
        "# Función lambda para normalizar (title case)\n",
        "normalizar = lambda x: x.title()\n",
        "\n",
        "# Normalizar nombres y apellidos\n",
        "nombres_normalizados = list(map(normalizar, nombres))\n",
        "apellidos_normalizados = list(map(normalizar, apellidos))\n",
        "\n",
        "# Crear nombres completos\n",
        "nombres_completos = [nombre + \" \" + apellido for nombre, apellido in zip(nombres_normalizados, apellidos_normalizados)]\n",
        "\n",
        "# Imprimir nombres completos\n",
        "print(f\"Nombres completos: {nombres_completos}\")"
      ],
      "metadata": {
        "colab": {
          "base_uri": "https://localhost:8080/"
        },
        "id": "-8WaY2Uh_1Ac",
        "outputId": "ba282798-0346-4adb-fa72-6d7cc5df0ee5"
      },
      "execution_count": null,
      "outputs": [
        {
          "output_type": "stream",
          "name": "stdout",
          "text": [
            "Nombres completos: ['Juan Silva', 'Maria Sosa', 'José Tavares']\n"
          ]
        }
      ]
    },
    {
      "cell_type": "code",
      "source": [
        "#8 - Como científico de datos en un equipo de fútbol, necesitas implementar nuevas formas de recopilación de datos sobre el rendimiento de los jugadores y del equipo en su conjunto. Tu primera acción es crear una forma de calcular la puntuación del equipo en el campeonato nacional a partir de los datos de goles marcados y recibidos en cada juego.\n",
        "\n",
        "#Escribe una función llamada calcula_puntos() que recibe como parámetros dos listas de números enteros, representando los goles marcados y recibidos por el equipo en cada partido del campeonato. La función debe devolver la puntuación del equipo y el rendimiento en porcentaje, teniendo en cuenta que la victoria vale 3 puntos, el empate 1 punto y la derrota 0 puntos.\n",
        "\n",
        "#Nota: si la cantidad de goles marcados en un partido es mayor que los recibidos, el equipo ganó. En caso de ser igual, el equipo empató, y si es menor, el equipo perdió. Para calcular el rendimiento, debemos hacer la razón entre la puntuación del equipo y la puntuación máxima que podría recibir.\n",
        "\n",
        "#Para la prueba, utiliza las siguientes listas de goles marcados y recibidos:\n",
        "\n",
        "#goles_marcados = [2, 1, 3, 1, 0]\n",
        "#goles_recibidos = [1, 2, 2, 1, 3]\n",
        "# Texto probablemente mostrado:\n",
        "# La puntuación del equipo fue `puntos` y su rendimiento fue `desempeno`%\"\n",
        "\n",
        "\n",
        "def calcula_puntos(goles_marcados, goles_recibidos):\n",
        "  \"\"\"Calcula la puntuación y el rendimiento de un equipo de fútbol.\n",
        "\n",
        "  Args:\n",
        "    goles_marcados: Lista de goles marcados en cada partido.\n",
        "    goles_recibidos: Lista de goles recibidos en cada partido.\n",
        "\n",
        "  Returns:\n",
        "    Una tupla que contiene:\n",
        "      - puntos: La puntuación total del equipo.\n",
        "      - rendimiento: El rendimiento del equipo en porcentaje.\n",
        "  \"\"\"\n",
        "  puntos = 0\n",
        "  for i in range(len(goles_marcados)):\n",
        "    if goles_marcados[i] > goles_recibidos[i]:\n",
        "      puntos += 3  # Victoria: 3 puntos\n",
        "    elif goles_marcados[i] == goles_recibidos[i]:\n",
        "      puntos += 1  # Empate: 1 punto\n",
        "    # else:  # Derrota: 0 puntos (no es necesario agregar nada)\n",
        "\n",
        "  rendimiento = (puntos / (len(goles_marcados) * 3)) * 100  # Puntuación máxima: 3 puntos por partido\n",
        "  return puntos, rendimiento\n",
        "\n",
        "# Ejemplo de uso\n",
        "goles_marcados = [2, 1, 3, 1, 0]\n",
        "goles_recibidos = [1, 2, 2, 1, 3]\n",
        "puntos, rendimiento = calcula_puntos(goles_marcados, goles_recibidos)\n",
        "print(f\"La puntuación del equipo fue {puntos} y su rendimiento fue {rendimiento:.2f}%\")"
      ],
      "metadata": {
        "colab": {
          "base_uri": "https://localhost:8080/"
        },
        "id": "cX_KLRDDANW_",
        "outputId": "cb316cbc-55ca-4ea0-f8a3-1d3b873051b3"
      },
      "execution_count": null,
      "outputs": [
        {
          "output_type": "stream",
          "name": "stdout",
          "text": [
            "La puntuación del equipo fue 7 y su rendimiento fue 46.67%\n"
          ]
        }
      ]
    },
    {
      "cell_type": "code",
      "source": [
        "#9 - Te han desafiado a crear un código que calcule los gastos de un viaje a una de las cuatro ciudades desde Recife, siendo ellas: Salvador, Fortaleza, Natal y Aracaju.\n",
        "\n",
        "#El costo diario del hotel es de 150 reales en todas ellas y el consumo de gasolina en el viaje en coche es de 14 km/l, siendo que el precio de la gasolina es de 5 reales por litro. Los gastos con paseos y alimentación a realizar en cada una de ellas por día serían [200, 400, 250, 300], respectivamente.\n",
        "\n",
        "#Sabiendo que las distancias entre Recife y cada una de las ciudades son aproximadamente [850, 800, 300, 550] km, crea tres funciones: la primera función calcula los gastos de hotel (gasto_hotel), la segunda calcula los gastos de gasolina (gasto_gasolina) y la tercera los gastos de paseo y alimentación (gasto_paseo).\n",
        "\n",
        "#Para probar, simula un viaje de 3 días a Salvador desde Recife. Considera el viaje de ida y vuelta en coche.\n",
        "\n",
        "# Texto probablemente mostrado:\n",
        "# Con base en los gastos definidos, un viaje de [dias] días a [ciudad] desde\n",
        "# Recife costaría [gastos] reales.\n",
        "\n",
        "\n",
        "\n",
        "def gasto_hotel(dias):\n",
        "  \"\"\"Calcula los gastos de hotel para un viaje.\n",
        "\n",
        "  Args:\n",
        "    dias: La cantidad de días del viaje.\n",
        "\n",
        "  Returns:\n",
        "    El costo total del hotel.\n",
        "  \"\"\"\n",
        "  costo_diario = 150  # Costo diario del hotel en reales\n",
        "  return costo_diario * dias\n",
        "\n",
        "def gasto_gasolina(distancia):\n",
        "  \"\"\"Calcula los gastos de gasolina para un viaje.\n",
        "\n",
        "  Args:\n",
        "    distancia: La distancia del viaje en km.\n",
        "\n",
        "  Returns:\n",
        "    El costo total de la gasolina.\n",
        "  \"\"\"\n",
        "  consumo = 14  # Consumo de gasolina en km/l\n",
        "  precio_gasolina = 5  # Precio de la gasolina en reales/l\n",
        "  return (distancia / consumo) * precio_gasolina\n",
        "\n",
        "def gasto_paseo(dias, ciudad):\n",
        "  \"\"\"Calcula los gastos de paseo y alimentación para un viaje.\n",
        "\n",
        "  Args:\n",
        "    dias: La cantidad de días del viaje.\n",
        "    ciudad: La ciudad de destino (0: Salvador, 1: Fortaleza, 2: Natal, 3: Aracaju).\n",
        "\n",
        "  Returns:\n",
        "    El costo total de paseo y alimentación.\n",
        "  \"\"\"\n",
        "  gastos_diarios = [200, 400, 250, 300]  # Gastos diarios por ciudad en reales\n",
        "  return gastos_diarios[ciudad] * dias\n",
        "\n",
        "# Datos del viaje\n",
        "ciudades = [\"Salvador\", \"Fortaleza\", \"Natal\", \"Aracaju\"]\n",
        "distancias = [850, 800, 300, 550]\n",
        "dias = 3\n",
        "ciudad_destino = 0  # Salvador\n",
        "\n",
        "# Calcular los gastos totales\n",
        "gastos_totales = gasto_hotel(dias) + gasto_gasolina(distancias[ciudad_destino] * 2) + gasto_paseo(dias, ciudad_destino)  # *2 para ida y vuelta\n",
        "\n",
        "# Imprimir el resultado\n",
        "print(f\"Con base en los gastos definidos, un viaje de {dias} días a {ciudades[ciudad_destino]} desde Recife costaría {gastos_totales} reales.\")\n",
        "\n",
        "\n",
        "\n"
      ],
      "metadata": {
        "colab": {
          "base_uri": "https://localhost:8080/"
        },
        "id": "wyWfsdctAWkv",
        "outputId": "847893be-b7b0-474c-fa79-d9276ae28464"
      },
      "execution_count": null,
      "outputs": [
        {
          "output_type": "stream",
          "name": "stdout",
          "text": [
            "Con base en los gastos definidos, un viaje de 3 días a Salvador desde Recife costaría 1657.142857142857 reales.\n"
          ]
        }
      ]
    },
    {
      "cell_type": "code",
      "source": [
        "#10 - Has comenzado una pasantía en una empresa que trabaja con procesamiento de lenguaje natural (NLP). Tu líder te solicitó que crees un fragmento de código que reciba una frase escrita por el usuario y filtre solo las palabras con un tamaño mayor o igual a 5, mostrándolas en una lista. Esta demanda se centra en el análisis del patrón de comportamiento de las personas al escribir palabras de esta cantidad de caracteres o más.\n",
        "\n",
        "#Consejo: utiliza las funciones lambda y filter() para filtrar estas palabras. Recordando que la función integrada filter() recibe una función (en nuestro caso, una función lambda) y filtra un iterable según la función. Para tratar la frase, utiliza replace() para cambiar ',' '.', '!' y '?' por espacio.\n",
        "\n",
        "#Utiliza la frase \"Aprender Python aquí en Alura es muy bueno\" para probar el código.\n",
        "\n",
        "\n",
        "def filtrar_palabras_largas(frase):\n",
        "  \"\"\"Filtra las palabras de una frase con un tamaño mayor o igual a 5.\n",
        "\n",
        "  Args:\n",
        "    frase: La frase a procesar.\n",
        "\n",
        "  Returns:\n",
        "    Una lista con las palabras filtradas.\n",
        "  \"\"\"\n",
        "  # Reemplazar caracteres especiales por espacios\n",
        "  frase = frase.replace(',', ' ').replace('.', ' ').replace('!', ' ').replace('?', ' ')\n",
        "\n",
        "  # Dividir la frase en palabras\n",
        "  palabras = frase.split()\n",
        "\n",
        "  # Filtrar las palabras con 5 o más caracteres\n",
        "  palabras_filtradas = list(filter(lambda palabra: len(palabra) >= 5, palabras))\n",
        "\n",
        "  return palabras_filtradas\n",
        "\n",
        "# Ejemplo de uso\n",
        "frase = \"Aprender Python aquí en Alura es muy bueno\"\n",
        "palabras_largas = filtrar_palabras_largas(frase)\n",
        "print(f\"Palabras con 5 o más caracteres: {palabras_largas}\")\n"
      ],
      "metadata": {
        "colab": {
          "base_uri": "https://localhost:8080/"
        },
        "id": "Sl9MjxTJB7JE",
        "outputId": "c7eb17ca-cd02-4c6e-e110-e46517857185"
      },
      "execution_count": null,
      "outputs": [
        {
          "output_type": "stream",
          "name": "stdout",
          "text": [
            "Palabras con 5 o más caracteres: ['Aprender', 'Python', 'Alura', 'bueno']\n"
          ]
        }
      ]
    }
  ]
}